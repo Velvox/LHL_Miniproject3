{
 "cells": [
  {
   "cell_type": "code",
   "execution_count": 1,
   "metadata": {},
   "outputs": [],
   "source": [
    "\n",
    "import matplotlib.pyplot as plt\n",
    "import pandas as pd\n",
    "import numpy as np\n",
    "\n",
    "from sklearn.cluster import DBSCAN\n",
    "from sklearn.cluster import KMeans\n",
    "\n",
    "import plotly.express as px\n",
    "import plotly\n",
    "\n",
    "import plotly.graph_objects as go"
   ]
  },
  {
   "cell_type": "markdown",
   "metadata": {},
   "source": [
    "# Let's try clustering"
   ]
  },
  {
   "cell_type": "code",
   "execution_count": 2,
   "metadata": {},
   "outputs": [
    {
     "data": {
      "text/html": [
       "<div>\n",
       "<style scoped>\n",
       "    .dataframe tbody tr th:only-of-type {\n",
       "        vertical-align: middle;\n",
       "    }\n",
       "\n",
       "    .dataframe tbody tr th {\n",
       "        vertical-align: top;\n",
       "    }\n",
       "\n",
       "    .dataframe thead th {\n",
       "        text-align: right;\n",
       "    }\n",
       "</style>\n",
       "<table border=\"1\" class=\"dataframe\">\n",
       "  <thead>\n",
       "    <tr style=\"text-align: right;\">\n",
       "      <th></th>\n",
       "      <th>income</th>\n",
       "      <th>age</th>\n",
       "      <th>years_with_bank</th>\n",
       "      <th>nbr_children</th>\n",
       "      <th>Albuquerque</th>\n",
       "      <th>Anaheim</th>\n",
       "      <th>Arlington</th>\n",
       "      <th>Atlanta</th>\n",
       "      <th>Austin</th>\n",
       "      <th>Baltimore</th>\n",
       "      <th>...</th>\n",
       "      <th>Seattle</th>\n",
       "      <th>St Louis</th>\n",
       "      <th>St Paul</th>\n",
       "      <th>Tampa</th>\n",
       "      <th>Toledo</th>\n",
       "      <th>Tucson</th>\n",
       "      <th>Tulsa</th>\n",
       "      <th>Virginia Beach</th>\n",
       "      <th>Washington</th>\n",
       "      <th>Wichita</th>\n",
       "    </tr>\n",
       "  </thead>\n",
       "  <tbody>\n",
       "    <tr>\n",
       "      <th>0</th>\n",
       "      <td>0.181399</td>\n",
       "      <td>0.434211</td>\n",
       "      <td>0.555556</td>\n",
       "      <td>0.2</td>\n",
       "      <td>0</td>\n",
       "      <td>0</td>\n",
       "      <td>0</td>\n",
       "      <td>0</td>\n",
       "      <td>0</td>\n",
       "      <td>0</td>\n",
       "      <td>...</td>\n",
       "      <td>0</td>\n",
       "      <td>0</td>\n",
       "      <td>0</td>\n",
       "      <td>0</td>\n",
       "      <td>0</td>\n",
       "      <td>0</td>\n",
       "      <td>0</td>\n",
       "      <td>0</td>\n",
       "      <td>0</td>\n",
       "      <td>0</td>\n",
       "    </tr>\n",
       "    <tr>\n",
       "      <th>1</th>\n",
       "      <td>0.045818</td>\n",
       "      <td>0.763158</td>\n",
       "      <td>0.111111</td>\n",
       "      <td>0.0</td>\n",
       "      <td>0</td>\n",
       "      <td>0</td>\n",
       "      <td>0</td>\n",
       "      <td>0</td>\n",
       "      <td>0</td>\n",
       "      <td>0</td>\n",
       "      <td>...</td>\n",
       "      <td>0</td>\n",
       "      <td>0</td>\n",
       "      <td>0</td>\n",
       "      <td>0</td>\n",
       "      <td>0</td>\n",
       "      <td>0</td>\n",
       "      <td>0</td>\n",
       "      <td>0</td>\n",
       "      <td>0</td>\n",
       "      <td>0</td>\n",
       "    </tr>\n",
       "    <tr>\n",
       "      <th>2</th>\n",
       "      <td>0.128665</td>\n",
       "      <td>0.328947</td>\n",
       "      <td>0.888889</td>\n",
       "      <td>0.0</td>\n",
       "      <td>0</td>\n",
       "      <td>0</td>\n",
       "      <td>0</td>\n",
       "      <td>0</td>\n",
       "      <td>0</td>\n",
       "      <td>0</td>\n",
       "      <td>...</td>\n",
       "      <td>0</td>\n",
       "      <td>0</td>\n",
       "      <td>0</td>\n",
       "      <td>0</td>\n",
       "      <td>0</td>\n",
       "      <td>0</td>\n",
       "      <td>0</td>\n",
       "      <td>0</td>\n",
       "      <td>0</td>\n",
       "      <td>0</td>\n",
       "    </tr>\n",
       "    <tr>\n",
       "      <th>3</th>\n",
       "      <td>0.330667</td>\n",
       "      <td>0.539474</td>\n",
       "      <td>0.333333</td>\n",
       "      <td>0.0</td>\n",
       "      <td>0</td>\n",
       "      <td>0</td>\n",
       "      <td>0</td>\n",
       "      <td>0</td>\n",
       "      <td>0</td>\n",
       "      <td>0</td>\n",
       "      <td>...</td>\n",
       "      <td>0</td>\n",
       "      <td>0</td>\n",
       "      <td>0</td>\n",
       "      <td>0</td>\n",
       "      <td>0</td>\n",
       "      <td>0</td>\n",
       "      <td>0</td>\n",
       "      <td>0</td>\n",
       "      <td>0</td>\n",
       "      <td>0</td>\n",
       "    </tr>\n",
       "    <tr>\n",
       "      <th>4</th>\n",
       "      <td>0.309066</td>\n",
       "      <td>0.605263</td>\n",
       "      <td>1.000000</td>\n",
       "      <td>0.4</td>\n",
       "      <td>0</td>\n",
       "      <td>0</td>\n",
       "      <td>0</td>\n",
       "      <td>0</td>\n",
       "      <td>0</td>\n",
       "      <td>0</td>\n",
       "      <td>...</td>\n",
       "      <td>0</td>\n",
       "      <td>0</td>\n",
       "      <td>0</td>\n",
       "      <td>0</td>\n",
       "      <td>0</td>\n",
       "      <td>0</td>\n",
       "      <td>0</td>\n",
       "      <td>0</td>\n",
       "      <td>0</td>\n",
       "      <td>0</td>\n",
       "    </tr>\n",
       "    <tr>\n",
       "      <th>...</th>\n",
       "      <td>...</td>\n",
       "      <td>...</td>\n",
       "      <td>...</td>\n",
       "      <td>...</td>\n",
       "      <td>...</td>\n",
       "      <td>...</td>\n",
       "      <td>...</td>\n",
       "      <td>...</td>\n",
       "      <td>...</td>\n",
       "      <td>...</td>\n",
       "      <td>...</td>\n",
       "      <td>...</td>\n",
       "      <td>...</td>\n",
       "      <td>...</td>\n",
       "      <td>...</td>\n",
       "      <td>...</td>\n",
       "      <td>...</td>\n",
       "      <td>...</td>\n",
       "      <td>...</td>\n",
       "      <td>...</td>\n",
       "      <td>...</td>\n",
       "    </tr>\n",
       "    <tr>\n",
       "      <th>742</th>\n",
       "      <td>0.102631</td>\n",
       "      <td>0.302632</td>\n",
       "      <td>0.666667</td>\n",
       "      <td>0.2</td>\n",
       "      <td>0</td>\n",
       "      <td>0</td>\n",
       "      <td>0</td>\n",
       "      <td>0</td>\n",
       "      <td>0</td>\n",
       "      <td>0</td>\n",
       "      <td>...</td>\n",
       "      <td>0</td>\n",
       "      <td>0</td>\n",
       "      <td>0</td>\n",
       "      <td>0</td>\n",
       "      <td>0</td>\n",
       "      <td>0</td>\n",
       "      <td>0</td>\n",
       "      <td>0</td>\n",
       "      <td>0</td>\n",
       "      <td>0</td>\n",
       "    </tr>\n",
       "    <tr>\n",
       "      <th>743</th>\n",
       "      <td>0.183043</td>\n",
       "      <td>0.565789</td>\n",
       "      <td>0.666667</td>\n",
       "      <td>0.2</td>\n",
       "      <td>0</td>\n",
       "      <td>0</td>\n",
       "      <td>0</td>\n",
       "      <td>0</td>\n",
       "      <td>0</td>\n",
       "      <td>0</td>\n",
       "      <td>...</td>\n",
       "      <td>0</td>\n",
       "      <td>0</td>\n",
       "      <td>0</td>\n",
       "      <td>0</td>\n",
       "      <td>0</td>\n",
       "      <td>0</td>\n",
       "      <td>0</td>\n",
       "      <td>0</td>\n",
       "      <td>0</td>\n",
       "      <td>0</td>\n",
       "    </tr>\n",
       "    <tr>\n",
       "      <th>744</th>\n",
       "      <td>0.425231</td>\n",
       "      <td>0.486842</td>\n",
       "      <td>0.000000</td>\n",
       "      <td>0.4</td>\n",
       "      <td>1</td>\n",
       "      <td>0</td>\n",
       "      <td>0</td>\n",
       "      <td>0</td>\n",
       "      <td>0</td>\n",
       "      <td>0</td>\n",
       "      <td>...</td>\n",
       "      <td>0</td>\n",
       "      <td>0</td>\n",
       "      <td>0</td>\n",
       "      <td>0</td>\n",
       "      <td>0</td>\n",
       "      <td>0</td>\n",
       "      <td>0</td>\n",
       "      <td>0</td>\n",
       "      <td>0</td>\n",
       "      <td>0</td>\n",
       "    </tr>\n",
       "    <tr>\n",
       "      <th>745</th>\n",
       "      <td>0.104747</td>\n",
       "      <td>0.315789</td>\n",
       "      <td>0.777778</td>\n",
       "      <td>0.0</td>\n",
       "      <td>0</td>\n",
       "      <td>0</td>\n",
       "      <td>0</td>\n",
       "      <td>0</td>\n",
       "      <td>0</td>\n",
       "      <td>0</td>\n",
       "      <td>...</td>\n",
       "      <td>0</td>\n",
       "      <td>0</td>\n",
       "      <td>0</td>\n",
       "      <td>0</td>\n",
       "      <td>0</td>\n",
       "      <td>0</td>\n",
       "      <td>0</td>\n",
       "      <td>0</td>\n",
       "      <td>0</td>\n",
       "      <td>0</td>\n",
       "    </tr>\n",
       "    <tr>\n",
       "      <th>746</th>\n",
       "      <td>0.123997</td>\n",
       "      <td>0.065789</td>\n",
       "      <td>0.333333</td>\n",
       "      <td>0.0</td>\n",
       "      <td>0</td>\n",
       "      <td>0</td>\n",
       "      <td>0</td>\n",
       "      <td>0</td>\n",
       "      <td>0</td>\n",
       "      <td>0</td>\n",
       "      <td>...</td>\n",
       "      <td>0</td>\n",
       "      <td>0</td>\n",
       "      <td>0</td>\n",
       "      <td>0</td>\n",
       "      <td>0</td>\n",
       "      <td>0</td>\n",
       "      <td>0</td>\n",
       "      <td>0</td>\n",
       "      <td>0</td>\n",
       "      <td>0</td>\n",
       "    </tr>\n",
       "  </tbody>\n",
       "</table>\n",
       "<p>747 rows × 73 columns</p>\n",
       "</div>"
      ],
      "text/plain": [
       "       income       age  years_with_bank  nbr_children  \\\n",
       "0    0.181399  0.434211         0.555556           0.2   \n",
       "1    0.045818  0.763158         0.111111           0.0   \n",
       "2    0.128665  0.328947         0.888889           0.0   \n",
       "3    0.330667  0.539474         0.333333           0.0   \n",
       "4    0.309066  0.605263         1.000000           0.4   \n",
       "..        ...       ...              ...           ...   \n",
       "742  0.102631  0.302632         0.666667           0.2   \n",
       "743  0.183043  0.565789         0.666667           0.2   \n",
       "744  0.425231  0.486842         0.000000           0.4   \n",
       "745  0.104747  0.315789         0.777778           0.0   \n",
       "746  0.123997  0.065789         0.333333           0.0   \n",
       "\n",
       "     Albuquerque                               \\\n",
       "0                                           0   \n",
       "1                                           0   \n",
       "2                                           0   \n",
       "3                                           0   \n",
       "4                                           0   \n",
       "..                                        ...   \n",
       "742                                         0   \n",
       "743                                         0   \n",
       "744                                         1   \n",
       "745                                         0   \n",
       "746                                         0   \n",
       "\n",
       "     Anaheim                                   \\\n",
       "0                                           0   \n",
       "1                                           0   \n",
       "2                                           0   \n",
       "3                                           0   \n",
       "4                                           0   \n",
       "..                                        ...   \n",
       "742                                         0   \n",
       "743                                         0   \n",
       "744                                         0   \n",
       "745                                         0   \n",
       "746                                         0   \n",
       "\n",
       "     Arlington                                 \\\n",
       "0                                           0   \n",
       "1                                           0   \n",
       "2                                           0   \n",
       "3                                           0   \n",
       "4                                           0   \n",
       "..                                        ...   \n",
       "742                                         0   \n",
       "743                                         0   \n",
       "744                                         0   \n",
       "745                                         0   \n",
       "746                                         0   \n",
       "\n",
       "     Atlanta                                   \\\n",
       "0                                           0   \n",
       "1                                           0   \n",
       "2                                           0   \n",
       "3                                           0   \n",
       "4                                           0   \n",
       "..                                        ...   \n",
       "742                                         0   \n",
       "743                                         0   \n",
       "744                                         0   \n",
       "745                                         0   \n",
       "746                                         0   \n",
       "\n",
       "     Austin                                    \\\n",
       "0                                           0   \n",
       "1                                           0   \n",
       "2                                           0   \n",
       "3                                           0   \n",
       "4                                           0   \n",
       "..                                        ...   \n",
       "742                                         0   \n",
       "743                                         0   \n",
       "744                                         0   \n",
       "745                                         0   \n",
       "746                                         0   \n",
       "\n",
       "     Baltimore                                 ...  \\\n",
       "0                                           0  ...   \n",
       "1                                           0  ...   \n",
       "2                                           0  ...   \n",
       "3                                           0  ...   \n",
       "4                                           0  ...   \n",
       "..                                        ...  ...   \n",
       "742                                         0  ...   \n",
       "743                                         0  ...   \n",
       "744                                         0  ...   \n",
       "745                                         0  ...   \n",
       "746                                         0  ...   \n",
       "\n",
       "     Seattle                                   \\\n",
       "0                                           0   \n",
       "1                                           0   \n",
       "2                                           0   \n",
       "3                                           0   \n",
       "4                                           0   \n",
       "..                                        ...   \n",
       "742                                         0   \n",
       "743                                         0   \n",
       "744                                         0   \n",
       "745                                         0   \n",
       "746                                         0   \n",
       "\n",
       "     St Louis                                  \\\n",
       "0                                           0   \n",
       "1                                           0   \n",
       "2                                           0   \n",
       "3                                           0   \n",
       "4                                           0   \n",
       "..                                        ...   \n",
       "742                                         0   \n",
       "743                                         0   \n",
       "744                                         0   \n",
       "745                                         0   \n",
       "746                                         0   \n",
       "\n",
       "     St Paul                                   \\\n",
       "0                                           0   \n",
       "1                                           0   \n",
       "2                                           0   \n",
       "3                                           0   \n",
       "4                                           0   \n",
       "..                                        ...   \n",
       "742                                         0   \n",
       "743                                         0   \n",
       "744                                         0   \n",
       "745                                         0   \n",
       "746                                         0   \n",
       "\n",
       "     Tampa                                     \\\n",
       "0                                           0   \n",
       "1                                           0   \n",
       "2                                           0   \n",
       "3                                           0   \n",
       "4                                           0   \n",
       "..                                        ...   \n",
       "742                                         0   \n",
       "743                                         0   \n",
       "744                                         0   \n",
       "745                                         0   \n",
       "746                                         0   \n",
       "\n",
       "     Toledo                                    \\\n",
       "0                                           0   \n",
       "1                                           0   \n",
       "2                                           0   \n",
       "3                                           0   \n",
       "4                                           0   \n",
       "..                                        ...   \n",
       "742                                         0   \n",
       "743                                         0   \n",
       "744                                         0   \n",
       "745                                         0   \n",
       "746                                         0   \n",
       "\n",
       "     Tucson                                    \\\n",
       "0                                           0   \n",
       "1                                           0   \n",
       "2                                           0   \n",
       "3                                           0   \n",
       "4                                           0   \n",
       "..                                        ...   \n",
       "742                                         0   \n",
       "743                                         0   \n",
       "744                                         0   \n",
       "745                                         0   \n",
       "746                                         0   \n",
       "\n",
       "     Tulsa                                     \\\n",
       "0                                           0   \n",
       "1                                           0   \n",
       "2                                           0   \n",
       "3                                           0   \n",
       "4                                           0   \n",
       "..                                        ...   \n",
       "742                                         0   \n",
       "743                                         0   \n",
       "744                                         0   \n",
       "745                                         0   \n",
       "746                                         0   \n",
       "\n",
       "     Virginia Beach                            \\\n",
       "0                                           0   \n",
       "1                                           0   \n",
       "2                                           0   \n",
       "3                                           0   \n",
       "4                                           0   \n",
       "..                                        ...   \n",
       "742                                         0   \n",
       "743                                         0   \n",
       "744                                         0   \n",
       "745                                         0   \n",
       "746                                         0   \n",
       "\n",
       "     Washington                                \\\n",
       "0                                           0   \n",
       "1                                           0   \n",
       "2                                           0   \n",
       "3                                           0   \n",
       "4                                           0   \n",
       "..                                        ...   \n",
       "742                                         0   \n",
       "743                                         0   \n",
       "744                                         0   \n",
       "745                                         0   \n",
       "746                                         0   \n",
       "\n",
       "     Wichita                                   \n",
       "0                                           0  \n",
       "1                                           0  \n",
       "2                                           0  \n",
       "3                                           0  \n",
       "4                                           0  \n",
       "..                                        ...  \n",
       "742                                         0  \n",
       "743                                         0  \n",
       "744                                         0  \n",
       "745                                         0  \n",
       "746                                         0  \n",
       "\n",
       "[747 rows x 73 columns]"
      ]
     },
     "execution_count": 2,
     "metadata": {},
     "output_type": "execute_result"
    }
   ],
   "source": [
    "customers_scaled = pd.read_csv('../data/customers_scaled.csv', index_col=0)\n",
    "customers_scaled"
   ]
  },
  {
   "cell_type": "code",
   "execution_count": 3,
   "metadata": {},
   "outputs": [],
   "source": [
    "# kmeans first\n",
    "\n",
    "def plot_distortion(X,max_clusters = 10):\n",
    "    distortions = []\n",
    "    for i in range(1, max_clusters +1):\n",
    "        km = KMeans(n_clusters=i,\n",
    "                    init='k-means++',\n",
    "                    n_init=10,\n",
    "                    random_state=0)\n",
    "        km.fit(X)\n",
    "        distortions.append(km.inertia_)\n",
    "\n",
    "    plt.plot(range(1,max_clusters +1), distortions, marker='o')\n",
    "    plt.xlabel('Number of clusters')\n",
    "    plt.ylabel('Distortion')\n",
    "    plt.show()\n"
   ]
  },
  {
   "cell_type": "code",
   "execution_count": 4,
   "metadata": {},
   "outputs": [
    {
     "data": {
      "image/png": "[encoded data removed]",
      "text/plain": [
       "<Figure size 432x288 with 1 Axes>"
      ]
     },
     "metadata": {
      "needs_background": "light"
     },
     "output_type": "display_data"
    }
   ],
   "source": [
    "plot_distortion(customers_scaled.iloc[:,:4], max_clusters = 10)"
   ]
  },
  {
   "cell_type": "code",
   "execution_count": 5,
   "metadata": {},
   "outputs": [],
   "source": [
    "# set up k_means params\n",
    "km = KMeans(n_clusters=4,\n",
    "            n_init=10,\n",
    "            random_state=0)"
   ]
  },
  {
   "cell_type": "code",
   "execution_count": 6,
   "metadata": {},
   "outputs": [
    {
     "data": {
      "text/plain": [
       "array([3, 1, 3, 1, 3, 2, 0, 3, 2, 3, 3, 0, 1, 0, 2, 0, 1, 0, 3, 0, 1, 1,\n",
       "       3, 3, 2, 1, 0, 3, 3, 1, 1, 1, 2, 3, 1, 2, 0, 1, 3, 0, 0, 2, 1, 2,\n",
       "       1, 1, 1, 0, 3, 1, 0, 0, 3, 3, 3, 1, 1, 3, 1, 3, 2, 0, 0, 1, 3, 0,\n",
       "       3, 2, 0, 0, 1, 2, 3, 1, 3, 3, 0, 1, 0, 3, 1, 3, 1, 0, 3, 2, 1, 1,\n",
       "       1, 3, 2, 0, 0, 1, 0, 1, 0, 1, 1, 2, 3, 3, 2, 1, 2, 1, 3, 3, 3, 3,\n",
       "       0, 3, 3, 1, 2, 3, 2, 1, 3, 2, 1, 2, 3, 2, 0, 3, 0, 1, 2, 0, 3, 1,\n",
       "       0, 1, 3, 0, 3, 3, 0, 1, 3, 3, 3, 0, 3, 0, 3, 3, 1, 2, 0, 1, 1, 1,\n",
       "       1, 3, 0, 3, 2, 3, 3, 3, 3, 2, 2, 2, 1, 0, 1, 3, 1, 3, 3, 1, 0, 0,\n",
       "       3, 3, 3, 1, 3, 0, 3, 0, 3, 1, 1, 2, 3, 2, 1, 2, 0, 0, 2, 0, 0, 0,\n",
       "       2, 2, 3, 3, 0, 0, 1, 3, 0, 1, 0, 3, 0, 0, 3, 3, 0, 2, 0, 2, 1, 2,\n",
       "       3, 2, 2, 2, 0, 2, 1, 1, 2, 0, 0, 0, 0, 0, 0, 0, 2, 2, 3, 3, 2, 0,\n",
       "       1, 3, 1, 3, 2, 3, 3, 3, 3, 3, 2, 3, 2, 3, 3, 1, 1, 1, 2, 3, 2, 2,\n",
       "       0, 0, 1, 0, 2, 2, 2, 0, 0, 0, 3, 2, 1, 1, 1, 0, 0, 3, 3, 2, 2, 0,\n",
       "       0, 2, 2, 0, 0, 2, 2, 1, 3, 0, 1, 3, 0, 0, 0, 1, 1, 0, 3, 3, 2, 2,\n",
       "       2, 1, 3, 0, 1, 2, 0, 2, 0, 3, 2, 2, 3, 3, 2, 0, 1, 3, 0, 3, 0, 1,\n",
       "       1, 2, 1, 2, 1, 3, 1, 3, 2, 1, 3, 2, 3, 0, 0, 1, 2, 0, 3, 1, 0, 2,\n",
       "       2, 3, 0, 3, 0, 1, 3, 0, 0, 3, 1, 3, 3, 3, 0, 1, 0, 2, 1, 1, 0, 2,\n",
       "       3, 1, 0, 3, 0, 0, 3, 3, 3, 0, 0, 2, 3, 3, 3, 1, 3, 3, 3, 2, 1, 0,\n",
       "       1, 0, 1, 1, 3, 1, 1, 1, 1, 1, 2, 0, 0, 2, 3, 1, 0, 1, 3, 3, 3, 1,\n",
       "       1, 1, 0, 3, 1, 2, 1, 1, 0, 3, 1, 3, 2, 0, 1, 3, 0, 0, 1, 1, 0, 0,\n",
       "       3, 1, 2, 0, 2, 0, 3, 3, 3, 3, 3, 2, 3, 1, 0, 3, 0, 1, 3, 1, 2, 3,\n",
       "       0, 0, 0, 2, 1, 1, 3, 0, 1, 2, 3, 0, 0, 3, 0, 0, 0, 1, 0, 0, 3, 0,\n",
       "       2, 2, 2, 2, 3, 3, 3, 1, 3, 0, 2, 3, 1, 1, 2, 0, 3, 1, 2, 0, 1, 0,\n",
       "       0, 1, 1, 0, 0, 0, 1, 2, 1, 1, 1, 2, 3, 1, 2, 0, 2, 0, 3, 1, 3, 3,\n",
       "       3, 0, 1, 1, 0, 0, 1, 2, 0, 3, 0, 2, 0, 1, 1, 0, 3, 0, 3, 0, 0, 0,\n",
       "       0, 1, 3, 0, 3, 3, 3, 0, 3, 3, 3, 1, 0, 1, 2, 0, 1, 1, 2, 2, 2, 3,\n",
       "       0, 0, 0, 2, 1, 0, 0, 0, 2, 1, 3, 3, 3, 2, 1, 1, 1, 1, 1, 1, 2, 0,\n",
       "       0, 2, 1, 3, 0, 3, 2, 0, 0, 1, 3, 0, 1, 3, 1, 0, 3, 2, 3, 1, 0, 0,\n",
       "       0, 0, 1, 0, 0, 1, 2, 2, 1, 1, 3, 3, 2, 0, 2, 1, 0, 3, 3, 0, 3, 2,\n",
       "       0, 1, 1, 0, 0, 2, 3, 2, 2, 0, 1, 2, 1, 2, 2, 2, 2, 2, 3, 1, 3, 3,\n",
       "       0, 0, 1, 2, 2, 2, 3, 0, 1, 2, 0, 3, 2, 0, 3, 3, 2, 0, 2, 2, 3, 0,\n",
       "       0, 1, 0, 1, 3, 1, 2, 0, 3, 1, 1, 1, 1, 1, 3, 3, 3, 3, 3, 3, 3, 2,\n",
       "       3, 2, 0, 3, 3, 0, 0, 2, 1, 2, 0, 2, 3, 2, 0, 3, 2, 0, 0, 3, 3, 1,\n",
       "       1, 1, 1, 1, 1, 3, 1, 3, 0, 1, 1, 1, 1, 3, 0, 0, 3, 3, 2, 3, 0],\n",
       "      dtype=int32)"
      ]
     },
     "execution_count": 6,
     "metadata": {},
     "output_type": "execute_result"
    }
   ],
   "source": [
    "# fit and predict\n",
    "y_km = km.fit_predict(customers_scaled.iloc[:,:4])\n",
    "y_km"
   ]
  },
  {
   "cell_type": "code",
   "execution_count": 9,
   "metadata": {},
   "outputs": [
    {
     "data": {
      "text/html": [
       "<div>\n",
       "<style scoped>\n",
       "    .dataframe tbody tr th:only-of-type {\n",
       "        vertical-align: middle;\n",
       "    }\n",
       "\n",
       "    .dataframe tbody tr th {\n",
       "        vertical-align: top;\n",
       "    }\n",
       "\n",
       "    .dataframe thead th {\n",
       "        text-align: right;\n",
       "    }\n",
       "</style>\n",
       "<table border=\"1\" class=\"dataframe\">\n",
       "  <thead>\n",
       "    <tr style=\"text-align: right;\">\n",
       "      <th></th>\n",
       "      <th>income</th>\n",
       "      <th>age</th>\n",
       "      <th>years_with_bank</th>\n",
       "      <th>nbr_children</th>\n",
       "      <th>Albuquerque</th>\n",
       "      <th>Anaheim</th>\n",
       "      <th>Arlington</th>\n",
       "      <th>Atlanta</th>\n",
       "      <th>Austin</th>\n",
       "      <th>Baltimore</th>\n",
       "      <th>...</th>\n",
       "      <th>St Louis</th>\n",
       "      <th>St Paul</th>\n",
       "      <th>Tampa</th>\n",
       "      <th>Toledo</th>\n",
       "      <th>Tucson</th>\n",
       "      <th>Tulsa</th>\n",
       "      <th>Virginia Beach</th>\n",
       "      <th>Washington</th>\n",
       "      <th>Wichita</th>\n",
       "      <th>cluster_nogeo</th>\n",
       "    </tr>\n",
       "  </thead>\n",
       "  <tbody>\n",
       "    <tr>\n",
       "      <th>0</th>\n",
       "      <td>0.181399</td>\n",
       "      <td>0.434211</td>\n",
       "      <td>0.555556</td>\n",
       "      <td>0.2</td>\n",
       "      <td>0</td>\n",
       "      <td>0</td>\n",
       "      <td>0</td>\n",
       "      <td>0</td>\n",
       "      <td>0</td>\n",
       "      <td>0</td>\n",
       "      <td>...</td>\n",
       "      <td>0</td>\n",
       "      <td>0</td>\n",
       "      <td>0</td>\n",
       "      <td>0</td>\n",
       "      <td>0</td>\n",
       "      <td>0</td>\n",
       "      <td>0</td>\n",
       "      <td>0</td>\n",
       "      <td>0</td>\n",
       "      <td>3</td>\n",
       "    </tr>\n",
       "    <tr>\n",
       "      <th>1</th>\n",
       "      <td>0.045818</td>\n",
       "      <td>0.763158</td>\n",
       "      <td>0.111111</td>\n",
       "      <td>0.0</td>\n",
       "      <td>0</td>\n",
       "      <td>0</td>\n",
       "      <td>0</td>\n",
       "      <td>0</td>\n",
       "      <td>0</td>\n",
       "      <td>0</td>\n",
       "      <td>...</td>\n",
       "      <td>0</td>\n",
       "      <td>0</td>\n",
       "      <td>0</td>\n",
       "      <td>0</td>\n",
       "      <td>0</td>\n",
       "      <td>0</td>\n",
       "      <td>0</td>\n",
       "      <td>0</td>\n",
       "      <td>0</td>\n",
       "      <td>1</td>\n",
       "    </tr>\n",
       "    <tr>\n",
       "      <th>2</th>\n",
       "      <td>0.128665</td>\n",
       "      <td>0.328947</td>\n",
       "      <td>0.888889</td>\n",
       "      <td>0.0</td>\n",
       "      <td>0</td>\n",
       "      <td>0</td>\n",
       "      <td>0</td>\n",
       "      <td>0</td>\n",
       "      <td>0</td>\n",
       "      <td>0</td>\n",
       "      <td>...</td>\n",
       "      <td>0</td>\n",
       "      <td>0</td>\n",
       "      <td>0</td>\n",
       "      <td>0</td>\n",
       "      <td>0</td>\n",
       "      <td>0</td>\n",
       "      <td>0</td>\n",
       "      <td>0</td>\n",
       "      <td>0</td>\n",
       "      <td>3</td>\n",
       "    </tr>\n",
       "    <tr>\n",
       "      <th>3</th>\n",
       "      <td>0.330667</td>\n",
       "      <td>0.539474</td>\n",
       "      <td>0.333333</td>\n",
       "      <td>0.0</td>\n",
       "      <td>0</td>\n",
       "      <td>0</td>\n",
       "      <td>0</td>\n",
       "      <td>0</td>\n",
       "      <td>0</td>\n",
       "      <td>0</td>\n",
       "      <td>...</td>\n",
       "      <td>0</td>\n",
       "      <td>0</td>\n",
       "      <td>0</td>\n",
       "      <td>0</td>\n",
       "      <td>0</td>\n",
       "      <td>0</td>\n",
       "      <td>0</td>\n",
       "      <td>0</td>\n",
       "      <td>0</td>\n",
       "      <td>1</td>\n",
       "    </tr>\n",
       "    <tr>\n",
       "      <th>4</th>\n",
       "      <td>0.309066</td>\n",
       "      <td>0.605263</td>\n",
       "      <td>1.000000</td>\n",
       "      <td>0.4</td>\n",
       "      <td>0</td>\n",
       "      <td>0</td>\n",
       "      <td>0</td>\n",
       "      <td>0</td>\n",
       "      <td>0</td>\n",
       "      <td>0</td>\n",
       "      <td>...</td>\n",
       "      <td>0</td>\n",
       "      <td>0</td>\n",
       "      <td>0</td>\n",
       "      <td>0</td>\n",
       "      <td>0</td>\n",
       "      <td>0</td>\n",
       "      <td>0</td>\n",
       "      <td>0</td>\n",
       "      <td>0</td>\n",
       "      <td>3</td>\n",
       "    </tr>\n",
       "    <tr>\n",
       "      <th>...</th>\n",
       "      <td>...</td>\n",
       "      <td>...</td>\n",
       "      <td>...</td>\n",
       "      <td>...</td>\n",
       "      <td>...</td>\n",
       "      <td>...</td>\n",
       "      <td>...</td>\n",
       "      <td>...</td>\n",
       "      <td>...</td>\n",
       "      <td>...</td>\n",
       "      <td>...</td>\n",
       "      <td>...</td>\n",
       "      <td>...</td>\n",
       "      <td>...</td>\n",
       "      <td>...</td>\n",
       "      <td>...</td>\n",
       "      <td>...</td>\n",
       "      <td>...</td>\n",
       "      <td>...</td>\n",
       "      <td>...</td>\n",
       "      <td>...</td>\n",
       "    </tr>\n",
       "    <tr>\n",
       "      <th>742</th>\n",
       "      <td>0.102631</td>\n",
       "      <td>0.302632</td>\n",
       "      <td>0.666667</td>\n",
       "      <td>0.2</td>\n",
       "      <td>0</td>\n",
       "      <td>0</td>\n",
       "      <td>0</td>\n",
       "      <td>0</td>\n",
       "      <td>0</td>\n",
       "      <td>0</td>\n",
       "      <td>...</td>\n",
       "      <td>0</td>\n",
       "      <td>0</td>\n",
       "      <td>0</td>\n",
       "      <td>0</td>\n",
       "      <td>0</td>\n",
       "      <td>0</td>\n",
       "      <td>0</td>\n",
       "      <td>0</td>\n",
       "      <td>0</td>\n",
       "      <td>3</td>\n",
       "    </tr>\n",
       "    <tr>\n",
       "      <th>743</th>\n",
       "      <td>0.183043</td>\n",
       "      <td>0.565789</td>\n",
       "      <td>0.666667</td>\n",
       "      <td>0.2</td>\n",
       "      <td>0</td>\n",
       "      <td>0</td>\n",
       "      <td>0</td>\n",
       "      <td>0</td>\n",
       "      <td>0</td>\n",
       "      <td>0</td>\n",
       "      <td>...</td>\n",
       "      <td>0</td>\n",
       "      <td>0</td>\n",
       "      <td>0</td>\n",
       "      <td>0</td>\n",
       "      <td>0</td>\n",
       "      <td>0</td>\n",
       "      <td>0</td>\n",
       "      <td>0</td>\n",
       "      <td>0</td>\n",
       "      <td>3</td>\n",
       "    </tr>\n",
       "    <tr>\n",
       "      <th>744</th>\n",
       "      <td>0.425231</td>\n",
       "      <td>0.486842</td>\n",
       "      <td>0.000000</td>\n",
       "      <td>0.4</td>\n",
       "      <td>1</td>\n",
       "      <td>0</td>\n",
       "      <td>0</td>\n",
       "      <td>0</td>\n",
       "      <td>0</td>\n",
       "      <td>0</td>\n",
       "      <td>...</td>\n",
       "      <td>0</td>\n",
       "      <td>0</td>\n",
       "      <td>0</td>\n",
       "      <td>0</td>\n",
       "      <td>0</td>\n",
       "      <td>0</td>\n",
       "      <td>0</td>\n",
       "      <td>0</td>\n",
       "      <td>0</td>\n",
       "      <td>2</td>\n",
       "    </tr>\n",
       "    <tr>\n",
       "      <th>745</th>\n",
       "      <td>0.104747</td>\n",
       "      <td>0.315789</td>\n",
       "      <td>0.777778</td>\n",
       "      <td>0.0</td>\n",
       "      <td>0</td>\n",
       "      <td>0</td>\n",
       "      <td>0</td>\n",
       "      <td>0</td>\n",
       "      <td>0</td>\n",
       "      <td>0</td>\n",
       "      <td>...</td>\n",
       "      <td>0</td>\n",
       "      <td>0</td>\n",
       "      <td>0</td>\n",
       "      <td>0</td>\n",
       "      <td>0</td>\n",
       "      <td>0</td>\n",
       "      <td>0</td>\n",
       "      <td>0</td>\n",
       "      <td>0</td>\n",
       "      <td>3</td>\n",
       "    </tr>\n",
       "    <tr>\n",
       "      <th>746</th>\n",
       "      <td>0.123997</td>\n",
       "      <td>0.065789</td>\n",
       "      <td>0.333333</td>\n",
       "      <td>0.0</td>\n",
       "      <td>0</td>\n",
       "      <td>0</td>\n",
       "      <td>0</td>\n",
       "      <td>0</td>\n",
       "      <td>0</td>\n",
       "      <td>0</td>\n",
       "      <td>...</td>\n",
       "      <td>0</td>\n",
       "      <td>0</td>\n",
       "      <td>0</td>\n",
       "      <td>0</td>\n",
       "      <td>0</td>\n",
       "      <td>0</td>\n",
       "      <td>0</td>\n",
       "      <td>0</td>\n",
       "      <td>0</td>\n",
       "      <td>0</td>\n",
       "    </tr>\n",
       "  </tbody>\n",
       "</table>\n",
       "<p>747 rows × 74 columns</p>\n",
       "</div>"
      ],
      "text/plain": [
       "       income       age  years_with_bank  nbr_children  \\\n",
       "0    0.181399  0.434211         0.555556           0.2   \n",
       "1    0.045818  0.763158         0.111111           0.0   \n",
       "2    0.128665  0.328947         0.888889           0.0   \n",
       "3    0.330667  0.539474         0.333333           0.0   \n",
       "4    0.309066  0.605263         1.000000           0.4   \n",
       "..        ...       ...              ...           ...   \n",
       "742  0.102631  0.302632         0.666667           0.2   \n",
       "743  0.183043  0.565789         0.666667           0.2   \n",
       "744  0.425231  0.486842         0.000000           0.4   \n",
       "745  0.104747  0.315789         0.777778           0.0   \n",
       "746  0.123997  0.065789         0.333333           0.0   \n",
       "\n",
       "     Albuquerque                               \\\n",
       "0                                           0   \n",
       "1                                           0   \n",
       "2                                           0   \n",
       "3                                           0   \n",
       "4                                           0   \n",
       "..                                        ...   \n",
       "742                                         0   \n",
       "743                                         0   \n",
       "744                                         1   \n",
       "745                                         0   \n",
       "746                                         0   \n",
       "\n",
       "     Anaheim                                   \\\n",
       "0                                           0   \n",
       "1                                           0   \n",
       "2                                           0   \n",
       "3                                           0   \n",
       "4                                           0   \n",
       "..                                        ...   \n",
       "742                                         0   \n",
       "743                                         0   \n",
       "744                                         0   \n",
       "745                                         0   \n",
       "746                                         0   \n",
       "\n",
       "     Arlington                                 \\\n",
       "0                                           0   \n",
       "1                                           0   \n",
       "2                                           0   \n",
       "3                                           0   \n",
       "4                                           0   \n",
       "..                                        ...   \n",
       "742                                         0   \n",
       "743                                         0   \n",
       "744                                         0   \n",
       "745                                         0   \n",
       "746                                         0   \n",
       "\n",
       "     Atlanta                                   \\\n",
       "0                                           0   \n",
       "1                                           0   \n",
       "2                                           0   \n",
       "3                                           0   \n",
       "4                                           0   \n",
       "..                                        ...   \n",
       "742                                         0   \n",
       "743                                         0   \n",
       "744                                         0   \n",
       "745                                         0   \n",
       "746                                         0   \n",
       "\n",
       "     Austin                                    \\\n",
       "0                                           0   \n",
       "1                                           0   \n",
       "2                                           0   \n",
       "3                                           0   \n",
       "4                                           0   \n",
       "..                                        ...   \n",
       "742                                         0   \n",
       "743                                         0   \n",
       "744                                         0   \n",
       "745                                         0   \n",
       "746                                         0   \n",
       "\n",
       "     Baltimore                                 ...  \\\n",
       "0                                           0  ...   \n",
       "1                                           0  ...   \n",
       "2                                           0  ...   \n",
       "3                                           0  ...   \n",
       "4                                           0  ...   \n",
       "..                                        ...  ...   \n",
       "742                                         0  ...   \n",
       "743                                         0  ...   \n",
       "744                                         0  ...   \n",
       "745                                         0  ...   \n",
       "746                                         0  ...   \n",
       "\n",
       "     St Louis                                  \\\n",
       "0                                           0   \n",
       "1                                           0   \n",
       "2                                           0   \n",
       "3                                           0   \n",
       "4                                           0   \n",
       "..                                        ...   \n",
       "742                                         0   \n",
       "743                                         0   \n",
       "744                                         0   \n",
       "745                                         0   \n",
       "746                                         0   \n",
       "\n",
       "     St Paul                                   \\\n",
       "0                                           0   \n",
       "1                                           0   \n",
       "2                                           0   \n",
       "3                                           0   \n",
       "4                                           0   \n",
       "..                                        ...   \n",
       "742                                         0   \n",
       "743                                         0   \n",
       "744                                         0   \n",
       "745                                         0   \n",
       "746                                         0   \n",
       "\n",
       "     Tampa                                     \\\n",
       "0                                           0   \n",
       "1                                           0   \n",
       "2                                           0   \n",
       "3                                           0   \n",
       "4                                           0   \n",
       "..                                        ...   \n",
       "742                                         0   \n",
       "743                                         0   \n",
       "744                                         0   \n",
       "745                                         0   \n",
       "746                                         0   \n",
       "\n",
       "     Toledo                                    \\\n",
       "0                                           0   \n",
       "1                                           0   \n",
       "2                                           0   \n",
       "3                                           0   \n",
       "4                                           0   \n",
       "..                                        ...   \n",
       "742                                         0   \n",
       "743                                         0   \n",
       "744                                         0   \n",
       "745                                         0   \n",
       "746                                         0   \n",
       "\n",
       "     Tucson                                    \\\n",
       "0                                           0   \n",
       "1                                           0   \n",
       "2                                           0   \n",
       "3                                           0   \n",
       "4                                           0   \n",
       "..                                        ...   \n",
       "742                                         0   \n",
       "743                                         0   \n",
       "744                                         0   \n",
       "745                                         0   \n",
       "746                                         0   \n",
       "\n",
       "     Tulsa                                     \\\n",
       "0                                           0   \n",
       "1                                           0   \n",
       "2                                           0   \n",
       "3                                           0   \n",
       "4                                           0   \n",
       "..                                        ...   \n",
       "742                                         0   \n",
       "743                                         0   \n",
       "744                                         0   \n",
       "745                                         0   \n",
       "746                                         0   \n",
       "\n",
       "     Virginia Beach                            \\\n",
       "0                                           0   \n",
       "1                                           0   \n",
       "2                                           0   \n",
       "3                                           0   \n",
       "4                                           0   \n",
       "..                                        ...   \n",
       "742                                         0   \n",
       "743                                         0   \n",
       "744                                         0   \n",
       "745                                         0   \n",
       "746                                         0   \n",
       "\n",
       "     Washington                                \\\n",
       "0                                           0   \n",
       "1                                           0   \n",
       "2                                           0   \n",
       "3                                           0   \n",
       "4                                           0   \n",
       "..                                        ...   \n",
       "742                                         0   \n",
       "743                                         0   \n",
       "744                                         0   \n",
       "745                                         0   \n",
       "746                                         0   \n",
       "\n",
       "     Wichita                                   cluster_nogeo  \n",
       "0                                           0              3  \n",
       "1                                           0              1  \n",
       "2                                           0              3  \n",
       "3                                           0              1  \n",
       "4                                           0              3  \n",
       "..                                        ...            ...  \n",
       "742                                         0              3  \n",
       "743                                         0              3  \n",
       "744                                         0              2  \n",
       "745                                         0              3  \n",
       "746                                         0              0  \n",
       "\n",
       "[747 rows x 74 columns]"
      ]
     },
     "execution_count": 9,
     "metadata": {},
     "output_type": "execute_result"
    }
   ],
   "source": [
    "customers_scaled['cluster_nogeo'] = y_km\n",
    "customers_scaled"
   ]
  },
  {
   "cell_type": "code",
   "execution_count": 10,
   "metadata": {},
   "outputs": [
    {
     "data": {
      "text/html": [
       "<div>\n",
       "<style scoped>\n",
       "    .dataframe tbody tr th:only-of-type {\n",
       "        vertical-align: middle;\n",
       "    }\n",
       "\n",
       "    .dataframe tbody tr th {\n",
       "        vertical-align: top;\n",
       "    }\n",
       "\n",
       "    .dataframe thead th {\n",
       "        text-align: right;\n",
       "    }\n",
       "</style>\n",
       "<table border=\"1\" class=\"dataframe\">\n",
       "  <thead>\n",
       "    <tr style=\"text-align: right;\">\n",
       "      <th></th>\n",
       "      <th>income</th>\n",
       "      <th>age</th>\n",
       "      <th>years_with_bank</th>\n",
       "      <th>nbr_children</th>\n",
       "      <th>Albuquerque</th>\n",
       "      <th>Anaheim</th>\n",
       "      <th>Arlington</th>\n",
       "      <th>Atlanta</th>\n",
       "      <th>Austin</th>\n",
       "      <th>Baltimore</th>\n",
       "      <th>...</th>\n",
       "      <th>Seattle</th>\n",
       "      <th>St Louis</th>\n",
       "      <th>St Paul</th>\n",
       "      <th>Tampa</th>\n",
       "      <th>Toledo</th>\n",
       "      <th>Tucson</th>\n",
       "      <th>Tulsa</th>\n",
       "      <th>Virginia Beach</th>\n",
       "      <th>Washington</th>\n",
       "      <th>Wichita</th>\n",
       "    </tr>\n",
       "    <tr>\n",
       "      <th>cluster_nogeo</th>\n",
       "      <th></th>\n",
       "      <th></th>\n",
       "      <th></th>\n",
       "      <th></th>\n",
       "      <th></th>\n",
       "      <th></th>\n",
       "      <th></th>\n",
       "      <th></th>\n",
       "      <th></th>\n",
       "      <th></th>\n",
       "      <th></th>\n",
       "      <th></th>\n",
       "      <th></th>\n",
       "      <th></th>\n",
       "      <th></th>\n",
       "      <th></th>\n",
       "      <th></th>\n",
       "      <th></th>\n",
       "      <th></th>\n",
       "      <th></th>\n",
       "      <th></th>\n",
       "    </tr>\n",
       "  </thead>\n",
       "  <tbody>\n",
       "    <tr>\n",
       "      <th>0</th>\n",
       "      <td>0.047311</td>\n",
       "      <td>0.086466</td>\n",
       "      <td>0.365079</td>\n",
       "      <td>0.019704</td>\n",
       "      <td>0.009852</td>\n",
       "      <td>0.009852</td>\n",
       "      <td>0.004926</td>\n",
       "      <td>0.000000</td>\n",
       "      <td>0.014778</td>\n",
       "      <td>0.009852</td>\n",
       "      <td>...</td>\n",
       "      <td>0.000000</td>\n",
       "      <td>0.009852</td>\n",
       "      <td>0.009852</td>\n",
       "      <td>0.004926</td>\n",
       "      <td>0.014778</td>\n",
       "      <td>0.004926</td>\n",
       "      <td>0.009852</td>\n",
       "      <td>0.000000</td>\n",
       "      <td>0.004926</td>\n",
       "      <td>0.009852</td>\n",
       "    </tr>\n",
       "    <tr>\n",
       "      <th>1</th>\n",
       "      <td>0.185363</td>\n",
       "      <td>0.565649</td>\n",
       "      <td>0.208038</td>\n",
       "      <td>0.042553</td>\n",
       "      <td>0.005319</td>\n",
       "      <td>0.010638</td>\n",
       "      <td>0.000000</td>\n",
       "      <td>0.000000</td>\n",
       "      <td>0.005319</td>\n",
       "      <td>0.015957</td>\n",
       "      <td>...</td>\n",
       "      <td>0.021277</td>\n",
       "      <td>0.010638</td>\n",
       "      <td>0.005319</td>\n",
       "      <td>0.005319</td>\n",
       "      <td>0.010638</td>\n",
       "      <td>0.010638</td>\n",
       "      <td>0.000000</td>\n",
       "      <td>0.000000</td>\n",
       "      <td>0.010638</td>\n",
       "      <td>0.000000</td>\n",
       "    </tr>\n",
       "    <tr>\n",
       "      <th>2</th>\n",
       "      <td>0.221601</td>\n",
       "      <td>0.332420</td>\n",
       "      <td>0.325617</td>\n",
       "      <td>0.509722</td>\n",
       "      <td>0.013889</td>\n",
       "      <td>0.027778</td>\n",
       "      <td>0.000000</td>\n",
       "      <td>0.013889</td>\n",
       "      <td>0.034722</td>\n",
       "      <td>0.013889</td>\n",
       "      <td>...</td>\n",
       "      <td>0.013889</td>\n",
       "      <td>0.006944</td>\n",
       "      <td>0.013889</td>\n",
       "      <td>0.000000</td>\n",
       "      <td>0.006944</td>\n",
       "      <td>0.000000</td>\n",
       "      <td>0.020833</td>\n",
       "      <td>0.000000</td>\n",
       "      <td>0.000000</td>\n",
       "      <td>0.006944</td>\n",
       "    </tr>\n",
       "    <tr>\n",
       "      <th>3</th>\n",
       "      <td>0.195338</td>\n",
       "      <td>0.556542</td>\n",
       "      <td>0.774633</td>\n",
       "      <td>0.100943</td>\n",
       "      <td>0.009434</td>\n",
       "      <td>0.009434</td>\n",
       "      <td>0.000000</td>\n",
       "      <td>0.000000</td>\n",
       "      <td>0.009434</td>\n",
       "      <td>0.004717</td>\n",
       "      <td>...</td>\n",
       "      <td>0.014151</td>\n",
       "      <td>0.009434</td>\n",
       "      <td>0.009434</td>\n",
       "      <td>0.000000</td>\n",
       "      <td>0.004717</td>\n",
       "      <td>0.018868</td>\n",
       "      <td>0.018868</td>\n",
       "      <td>0.004717</td>\n",
       "      <td>0.014151</td>\n",
       "      <td>0.000000</td>\n",
       "    </tr>\n",
       "  </tbody>\n",
       "</table>\n",
       "<p>4 rows × 73 columns</p>\n",
       "</div>"
      ],
      "text/plain": [
       "                 income       age  years_with_bank  nbr_children  \\\n",
       "cluster_nogeo                                                      \n",
       "0              0.047311  0.086466         0.365079      0.019704   \n",
       "1              0.185363  0.565649         0.208038      0.042553   \n",
       "2              0.221601  0.332420         0.325617      0.509722   \n",
       "3              0.195338  0.556542         0.774633      0.100943   \n",
       "\n",
       "               Albuquerque                               \\\n",
       "cluster_nogeo                                             \n",
       "0                                              0.009852   \n",
       "1                                              0.005319   \n",
       "2                                              0.013889   \n",
       "3                                              0.009434   \n",
       "\n",
       "               Anaheim                                   \\\n",
       "cluster_nogeo                                             \n",
       "0                                              0.009852   \n",
       "1                                              0.010638   \n",
       "2                                              0.027778   \n",
       "3                                              0.009434   \n",
       "\n",
       "               Arlington                                 \\\n",
       "cluster_nogeo                                             \n",
       "0                                              0.004926   \n",
       "1                                              0.000000   \n",
       "2                                              0.000000   \n",
       "3                                              0.000000   \n",
       "\n",
       "               Atlanta                                   \\\n",
       "cluster_nogeo                                             \n",
       "0                                              0.000000   \n",
       "1                                              0.000000   \n",
       "2                                              0.013889   \n",
       "3                                              0.000000   \n",
       "\n",
       "               Austin                                    \\\n",
       "cluster_nogeo                                             \n",
       "0                                              0.014778   \n",
       "1                                              0.005319   \n",
       "2                                              0.034722   \n",
       "3                                              0.009434   \n",
       "\n",
       "               Baltimore                                 ...  \\\n",
       "cluster_nogeo                                            ...   \n",
       "0                                              0.009852  ...   \n",
       "1                                              0.015957  ...   \n",
       "2                                              0.013889  ...   \n",
       "3                                              0.004717  ...   \n",
       "\n",
       "               Seattle                                   \\\n",
       "cluster_nogeo                                             \n",
       "0                                              0.000000   \n",
       "1                                              0.021277   \n",
       "2                                              0.013889   \n",
       "3                                              0.014151   \n",
       "\n",
       "               St Louis                                  \\\n",
       "cluster_nogeo                                             \n",
       "0                                              0.009852   \n",
       "1                                              0.010638   \n",
       "2                                              0.006944   \n",
       "3                                              0.009434   \n",
       "\n",
       "               St Paul                                   \\\n",
       "cluster_nogeo                                             \n",
       "0                                              0.009852   \n",
       "1                                              0.005319   \n",
       "2                                              0.013889   \n",
       "3                                              0.009434   \n",
       "\n",
       "               Tampa                                     \\\n",
       "cluster_nogeo                                             \n",
       "0                                              0.004926   \n",
       "1                                              0.005319   \n",
       "2                                              0.000000   \n",
       "3                                              0.000000   \n",
       "\n",
       "               Toledo                                    \\\n",
       "cluster_nogeo                                             \n",
       "0                                              0.014778   \n",
       "1                                              0.010638   \n",
       "2                                              0.006944   \n",
       "3                                              0.004717   \n",
       "\n",
       "               Tucson                                    \\\n",
       "cluster_nogeo                                             \n",
       "0                                              0.004926   \n",
       "1                                              0.010638   \n",
       "2                                              0.000000   \n",
       "3                                              0.018868   \n",
       "\n",
       "               Tulsa                                     \\\n",
       "cluster_nogeo                                             \n",
       "0                                              0.009852   \n",
       "1                                              0.000000   \n",
       "2                                              0.020833   \n",
       "3                                              0.018868   \n",
       "\n",
       "               Virginia Beach                            \\\n",
       "cluster_nogeo                                             \n",
       "0                                              0.000000   \n",
       "1                                              0.000000   \n",
       "2                                              0.000000   \n",
       "3                                              0.004717   \n",
       "\n",
       "               Washington                                \\\n",
       "cluster_nogeo                                             \n",
       "0                                              0.004926   \n",
       "1                                              0.010638   \n",
       "2                                              0.000000   \n",
       "3                                              0.014151   \n",
       "\n",
       "               Wichita                                   \n",
       "cluster_nogeo                                            \n",
       "0                                              0.009852  \n",
       "1                                              0.000000  \n",
       "2                                              0.006944  \n",
       "3                                              0.000000  \n",
       "\n",
       "[4 rows x 73 columns]"
      ]
     },
     "execution_count": 10,
     "metadata": {},
     "output_type": "execute_result"
    }
   ],
   "source": [
    "radar_scaled = customers_scaled.groupby('cluster_nogeo').mean()\n",
    "radar_scaled"
   ]
  },
  {
   "cell_type": "code",
   "execution_count": 51,
   "metadata": {},
   "outputs": [],
   "source": [
    "def plotRadarChart(data,title):\n",
    "    temp_list = []\n",
    "    for i in range(len(data)):\n",
    "        temp_list.append(go.Scatterpolar(\n",
    "                                        r=data.iloc[i,:4].values,\n",
    "                                        theta=data.columns[:4],\n",
    "                                        name=str(data.index[i]),\n",
    "                                        fill='toself'\n",
    "        ))\n",
    "\n",
    "    layout = go.Layout(polar = dict(radialaxis = dict(visible = True)),\n",
    "                        showlegend = True, title=title)     \n",
    "    fig = go.Figure(data = temp_list, layout = layout)     \n",
    "    fig.show()"
   ]
  },
  {
   "cell_type": "code",
   "execution_count": 52,
   "metadata": {},
   "outputs": [
    {
     "data": {
      "application/vnd.plotly.v1+json": {
       "config": {
        "plotlyServerURL": "https://plot.ly"
       },
       "data": [
        {
         "fill": "toself",
         "name": "0",
         "r": [
          0.047310521564286535,
          0.0864661654135338,
          0.3650793650793651,
          0.019704433497536946
         ],
         "theta": [
          "income",
          "age",
          "years_with_bank",
          "nbr_children"
         ],
         "type": "scatterpolar"
        },
        {
         "fill": "toself",
         "name": "1",
         "r": [
          0.18536332063490465,
          0.5656494960806271,
          0.20803782505910162,
          0.0425531914893617
         ],
         "theta": [
          "income",
          "age",
          "years_with_bank",
          "nbr_children"
         ],
         "type": "scatterpolar"
        },
        {
         "fill": "toself",
         "name": "2",
         "r": [
          0.22160113048042523,
          0.3324195906432748,
          0.3256172839506173,
          0.5097222222222223
         ],
         "theta": [
          "income",
          "age",
          "years_with_bank",
          "nbr_children"
         ],
         "type": "scatterpolar"
        },
        {
         "fill": "toself",
         "name": "3",
         "r": [
          0.19533796420333646,
          0.5565417080436941,
          0.7746331236897275,
          0.1009433962264151
         ],
         "theta": [
          "income",
          "age",
          "years_with_bank",
          "nbr_children"
         ],
         "type": "scatterpolar"
        }
       ],
       "layout": {
        "polar": {
         "radialaxis": {
          "visible": true
         }
        },
        "showlegend": true,
        "template": {
         "data": {
          "bar": [
           {
            "error_x": {
             "color": "#2a3f5f"
            },
            "error_y": {
             "color": "#2a3f5f"
            },
            "marker": {
             "line": {
              "color": "#E5ECF6",
              "width": 0.5
             },
             "pattern": {
              "fillmode": "overlay",
              "size": 10,
              "solidity": 0.2
             }
            },
            "type": "bar"
           }
          ],
          "barpolar": [
           {
            "marker": {
             "line": {
              "color": "#E5ECF6",
              "width": 0.5
             },
             "pattern": {
              "fillmode": "overlay",
              "size": 10,
              "solidity": 0.2
             }
            },
            "type": "barpolar"
           }
          ],
          "carpet": [
           {
            "aaxis": {
             "endlinecolor": "#2a3f5f",
             "gridcolor": "white",
             "linecolor": "white",
             "minorgridcolor": "white",
             "startlinecolor": "#2a3f5f"
            },
            "baxis": {
             "endlinecolor": "#2a3f5f",
             "gridcolor": "white",
             "linecolor": "white",
             "minorgridcolor": "white",
             "startlinecolor": "#2a3f5f"
            },
            "type": "carpet"
           }
          ],
          "choropleth": [
           {
            "colorbar": {
             "outlinewidth": 0,
             "ticks": ""
            },
            "type": "choropleth"
           }
          ],
          "contour": [
           {
            "colorbar": {
             "outlinewidth": 0,
             "ticks": ""
            },
            "colorscale": [
             [
              0,
              "#0d0887"
             ],
             [
              0.1111111111111111,
              "#46039f"
             ],
             [
              0.2222222222222222,
              "#7201a8"
             ],
             [
              0.3333333333333333,
              "#9c179e"
             ],
             [
              0.4444444444444444,
              "#bd3786"
             ],
             [
              0.5555555555555556,
              "#d8576b"
             ],
             [
              0.6666666666666666,
              "#ed7953"
             ],
             [
              0.7777777777777778,
              "#fb9f3a"
             ],
             [
              0.8888888888888888,
              "#fdca26"
             ],
             [
              1,
              "#f0f921"
             ]
            ],
            "type": "contour"
           }
          ],
          "contourcarpet": [
           {
            "colorbar": {
             "outlinewidth": 0,
             "ticks": ""
            },
            "type": "contourcarpet"
           }
          ],
          "heatmap": [
           {
            "colorbar": {
             "outlinewidth": 0,
             "ticks": ""
            },
            "colorscale": [
             [
              0,
              "#0d0887"
             ],
             [
              0.1111111111111111,
              "#46039f"
             ],
             [
              0.2222222222222222,
              "#7201a8"
             ],
             [
              0.3333333333333333,
              "#9c179e"
             ],
             [
              0.4444444444444444,
              "#bd3786"
             ],
             [
              0.5555555555555556,
              "#d8576b"
             ],
             [
              0.6666666666666666,
              "#ed7953"
             ],
             [
              0.7777777777777778,
              "#fb9f3a"
             ],
             [
              0.8888888888888888,
              "#fdca26"
             ],
             [
              1,
              "#f0f921"
             ]
            ],
            "type": "heatmap"
           }
          ],
          "heatmapgl": [
           {
            "colorbar": {
             "outlinewidth": 0,
             "ticks": ""
            },
            "colorscale": [
             [
              0,
              "#0d0887"
             ],
             [
              0.1111111111111111,
              "#46039f"
             ],
             [
              0.2222222222222222,
              "#7201a8"
             ],
             [
              0.3333333333333333,
              "#9c179e"
             ],
             [
              0.4444444444444444,
              "#bd3786"
             ],
             [
              0.5555555555555556,
              "#d8576b"
             ],
             [
              0.6666666666666666,
              "#ed7953"
             ],
             [
              0.7777777777777778,
              "#fb9f3a"
             ],
             [
              0.8888888888888888,
              "#fdca26"
             ],
             [
              1,
              "#f0f921"
             ]
            ],
            "type": "heatmapgl"
           }
          ],
          "histogram": [
           {
            "marker": {
             "pattern": {
              "fillmode": "overlay",
              "size": 10,
              "solidity": 0.2
             }
            },
            "type": "histogram"
           }
          ],
          "histogram2d": [
           {
            "colorbar": {
             "outlinewidth": 0,
             "ticks": ""
            },
            "colorscale": [
             [
              0,
              "#0d0887"
             ],
             [
              0.1111111111111111,
              "#46039f"
             ],
             [
              0.2222222222222222,
              "#7201a8"
             ],
             [
              0.3333333333333333,
              "#9c179e"
             ],
             [
              0.4444444444444444,
              "#bd3786"
             ],
             [
              0.5555555555555556,
              "#d8576b"
             ],
             [
              0.6666666666666666,
              "#ed7953"
             ],
             [
              0.7777777777777778,
              "#fb9f3a"
             ],
             [
              0.8888888888888888,
              "#fdca26"
             ],
             [
              1,
              "#f0f921"
             ]
            ],
            "type": "histogram2d"
           }
          ],
          "histogram2dcontour": [
           {
            "colorbar": {
             "outlinewidth": 0,
             "ticks": ""
            },
            "colorscale": [
             [
              0,
              "#0d0887"
             ],
             [
              0.1111111111111111,
              "#46039f"
             ],
             [
              0.2222222222222222,
              "#7201a8"
             ],
             [
              0.3333333333333333,
              "#9c179e"
             ],
             [
              0.4444444444444444,
              "#bd3786"
             ],
             [
              0.5555555555555556,
              "#d8576b"
             ],
             [
              0.6666666666666666,
              "#ed7953"
             ],
             [
              0.7777777777777778,
              "#fb9f3a"
             ],
             [
              0.8888888888888888,
              "#fdca26"
             ],
             [
              1,
              "#f0f921"
             ]
            ],
            "type": "histogram2dcontour"
           }
          ],
          "mesh3d": [
           {
            "colorbar": {
             "outlinewidth": 0,
             "ticks": ""
            },
            "type": "mesh3d"
           }
          ],
          "parcoords": [
           {
            "line": {
             "colorbar": {
              "outlinewidth": 0,
              "ticks": ""
             }
            },
            "type": "parcoords"
           }
          ],
          "pie": [
           {
            "automargin": true,
            "type": "pie"
           }
          ],
          "scatter": [
           {
            "fillpattern": {
             "fillmode": "overlay",
             "size": 10,
             "solidity": 0.2
            },
            "type": "scatter"
           }
          ],
          "scatter3d": [
           {
            "line": {
             "colorbar": {
              "outlinewidth": 0,
              "ticks": ""
             }
            },
            "marker": {
             "colorbar": {
              "outlinewidth": 0,
              "ticks": ""
             }
            },
            "type": "scatter3d"
           }
          ],
          "scattercarpet": [
           {
            "marker": {
             "colorbar": {
              "outlinewidth": 0,
              "ticks": ""
             }
            },
            "type": "scattercarpet"
           }
          ],
          "scattergeo": [
           {
            "marker": {
             "colorbar": {
              "outlinewidth": 0,
              "ticks": ""
             }
            },
            "type": "scattergeo"
           }
          ],
          "scattergl": [
           {
            "marker": {
             "colorbar": {
              "outlinewidth": 0,
              "ticks": ""
             }
            },
            "type": "scattergl"
           }
          ],
          "scattermapbox": [
           {
            "marker": {
             "colorbar": {
              "outlinewidth": 0,
              "ticks": ""
             }
            },
            "type": "scattermapbox"
           }
          ],
          "scatterpolar": [
           {
            "marker": {
             "colorbar": {
              "outlinewidth": 0,
              "ticks": ""
             }
            },
            "type": "scatterpolar"
           }
          ],
          "scatterpolargl": [
           {
            "marker": {
             "colorbar": {
              "outlinewidth": 0,
              "ticks": ""
             }
            },
            "type": "scatterpolargl"
           }
          ],
          "scatterternary": [
           {
            "marker": {
             "colorbar": {
              "outlinewidth": 0,
              "ticks": ""
             }
            },
            "type": "scatterternary"
           }
          ],
          "surface": [
           {
            "colorbar": {
             "outlinewidth": 0,
             "ticks": ""
            },
            "colorscale": [
             [
              0,
              "#0d0887"
             ],
             [
              0.1111111111111111,
              "#46039f"
             ],
             [
              0.2222222222222222,
              "#7201a8"
             ],
             [
              0.3333333333333333,
              "#9c179e"
             ],
             [
              0.4444444444444444,
              "#bd3786"
             ],
             [
              0.5555555555555556,
              "#d8576b"
             ],
             [
              0.6666666666666666,
              "#ed7953"
             ],
             [
              0.7777777777777778,
              "#fb9f3a"
             ],
             [
              0.8888888888888888,
              "#fdca26"
             ],
             [
              1,
              "#f0f921"
             ]
            ],
            "type": "surface"
           }
          ],
          "table": [
           {
            "cells": {
             "fill": {
              "color": "#EBF0F8"
             },
             "line": {
              "color": "white"
             }
            },
            "header": {
             "fill": {
              "color": "#C8D4E3"
             },
             "line": {
              "color": "white"
             }
            },
            "type": "table"
           }
          ]
         },
         "layout": {
          "annotationdefaults": {
           "arrowcolor": "#2a3f5f",
           "arrowhead": 0,
           "arrowwidth": 1
          },
          "autotypenumbers": "strict",
          "coloraxis": {
           "colorbar": {
            "outlinewidth": 0,
            "ticks": ""
           }
          },
          "colorscale": {
           "diverging": [
            [
             0,
             "#8e0152"
            ],
            [
             0.1,
             "#c51b7d"
            ],
            [
             0.2,
             "#de77ae"
            ],
            [
             0.3,
             "#f1b6da"
            ],
            [
             0.4,
             "#fde0ef"
            ],
            [
             0.5,
             "#f7f7f7"
            ],
            [
             0.6,
             "#e6f5d0"
            ],
            [
             0.7,
             "#b8e186"
            ],
            [
             0.8,
             "#7fbc41"
            ],
            [
             0.9,
             "#4d9221"
            ],
            [
             1,
             "#276419"
            ]
           ],
           "sequential": [
            [
             0,
             "#0d0887"
            ],
            [
             0.1111111111111111,
             "#46039f"
            ],
            [
             0.2222222222222222,
             "#7201a8"
            ],
            [
             0.3333333333333333,
             "#9c179e"
            ],
            [
             0.4444444444444444,
             "#bd3786"
            ],
            [
             0.5555555555555556,
             "#d8576b"
            ],
            [
             0.6666666666666666,
             "#ed7953"
            ],
            [
             0.7777777777777778,
             "#fb9f3a"
            ],
            [
             0.8888888888888888,
             "#fdca26"
            ],
            [
             1,
             "#f0f921"
            ]
           ],
           "sequentialminus": [
            [
             0,
             "#0d0887"
            ],
            [
             0.1111111111111111,
             "#46039f"
            ],
            [
             0.2222222222222222,
             "#7201a8"
            ],
            [
             0.3333333333333333,
             "#9c179e"
            ],
            [
             0.4444444444444444,
             "#bd3786"
            ],
            [
             0.5555555555555556,
             "#d8576b"
            ],
            [
             0.6666666666666666,
             "#ed7953"
            ],
            [
             0.7777777777777778,
             "#fb9f3a"
            ],
            [
             0.8888888888888888,
             "#fdca26"
            ],
            [
             1,
             "#f0f921"
            ]
           ]
          },
          "colorway": [
           "#636efa",
           "#EF553B",
           "#00cc96",
           "#ab63fa",
           "#FFA15A",
           "#19d3f3",
           "#FF6692",
           "#B6E880",
           "#FF97FF",
           "#FECB52"
          ],
          "font": {
           "color": "#2a3f5f"
          },
          "geo": {
           "bgcolor": "white",
           "lakecolor": "white",
           "landcolor": "#E5ECF6",
           "showlakes": true,
           "showland": true,
           "subunitcolor": "white"
          },
          "hoverlabel": {
           "align": "left"
          },
          "hovermode": "closest",
          "mapbox": {
           "style": "light"
          },
          "paper_bgcolor": "white",
          "plot_bgcolor": "#E5ECF6",
          "polar": {
           "angularaxis": {
            "gridcolor": "white",
            "linecolor": "white",
            "ticks": ""
           },
           "bgcolor": "#E5ECF6",
           "radialaxis": {
            "gridcolor": "white",
            "linecolor": "white",
            "ticks": ""
           }
          },
          "scene": {
           "xaxis": {
            "backgroundcolor": "#E5ECF6",
            "gridcolor": "white",
            "gridwidth": 2,
            "linecolor": "white",
            "showbackground": true,
            "ticks": "",
            "zerolinecolor": "white"
           },
           "yaxis": {
            "backgroundcolor": "#E5ECF6",
            "gridcolor": "white",
            "gridwidth": 2,
            "linecolor": "white",
            "showbackground": true,
            "ticks": "",
            "zerolinecolor": "white"
           },
           "zaxis": {
            "backgroundcolor": "#E5ECF6",
            "gridcolor": "white",
            "gridwidth": 2,
            "linecolor": "white",
            "showbackground": true,
            "ticks": "",
            "zerolinecolor": "white"
           }
          },
          "shapedefaults": {
           "line": {
            "color": "#2a3f5f"
           }
          },
          "ternary": {
           "aaxis": {
            "gridcolor": "white",
            "linecolor": "white",
            "ticks": ""
           },
           "baxis": {
            "gridcolor": "white",
            "linecolor": "white",
            "ticks": ""
           },
           "bgcolor": "#E5ECF6",
           "caxis": {
            "gridcolor": "white",
            "linecolor": "white",
            "ticks": ""
           }
          },
          "title": {
           "x": 0.05
          },
          "xaxis": {
           "automargin": true,
           "gridcolor": "white",
           "linecolor": "white",
           "ticks": "",
           "title": {
            "standoff": 15
           },
           "zerolinecolor": "white",
           "zerolinewidth": 2
          },
          "yaxis": {
           "automargin": true,
           "gridcolor": "white",
           "linecolor": "white",
           "ticks": "",
           "title": {
            "standoff": 15
           },
           "zerolinecolor": "white",
           "zerolinewidth": 2
          }
         }
        },
        "title": {
         "text": "Demographic segments, no geography"
        }
       }
      }
     },
     "metadata": {},
     "output_type": "display_data"
    }
   ],
   "source": [
    "plotRadarChart(radar_scaled.iloc[:,:4], \"Demographic segments, no geography\")"
   ]
  },
  {
   "cell_type": "markdown",
   "metadata": {},
   "source": [
    "# Let's try and use the geo data"
   ]
  },
  {
   "cell_type": "code",
   "execution_count": 30,
   "metadata": {},
   "outputs": [
    {
     "data": {
      "image/png": "[encoded data removed]",
      "text/plain": [
       "<Figure size 432x288 with 1 Axes>"
      ]
     },
     "metadata": {
      "needs_background": "light"
     },
     "output_type": "display_data"
    }
   ],
   "source": [
    "from sklearn.decomposition import PCA\n",
    "\n",
    "# We need PCA to make the cities usable, how many PCs?\n",
    "\n",
    "def screePlot(data, n_components=10):\n",
    "    pca = PCA(n_components=n_components)\n",
    "    pca_fit = pca.fit(data)\n",
    "    pca_fit\n",
    "\n",
    "    PC_values = np.arange(pca.n_components_) + 1\n",
    "    PC_values\n",
    "\n",
    "    plt.plot(PC_values, pca.explained_variance_ratio_, 'o-')\n",
    "    plt.title('Scree Plot')\n",
    "    plt.xlabel('Principal Component')\n",
    "    plt.ylabel('Variance Explained')\n",
    "\n",
    "screePlot(customers_scaled.iloc[:,:-1])"
   ]
  },
  {
   "cell_type": "code",
   "execution_count": 75,
   "metadata": {},
   "outputs": [
    {
     "data": {
      "text/html": [
       "<div>\n",
       "<style scoped>\n",
       "    .dataframe tbody tr th:only-of-type {\n",
       "        vertical-align: middle;\n",
       "    }\n",
       "\n",
       "    .dataframe tbody tr th {\n",
       "        vertical-align: top;\n",
       "    }\n",
       "\n",
       "    .dataframe thead th {\n",
       "        text-align: right;\n",
       "    }\n",
       "</style>\n",
       "<table border=\"1\" class=\"dataframe\">\n",
       "  <thead>\n",
       "    <tr style=\"text-align: right;\">\n",
       "      <th></th>\n",
       "      <th>PC1</th>\n",
       "      <th>PC2</th>\n",
       "      <th>PC3</th>\n",
       "      <th>PC4</th>\n",
       "      <th>PC5</th>\n",
       "      <th>PC6</th>\n",
       "      <th>PC7</th>\n",
       "      <th>PC8</th>\n",
       "    </tr>\n",
       "  </thead>\n",
       "  <tbody>\n",
       "    <tr>\n",
       "      <th>0</th>\n",
       "      <td>1.509029</td>\n",
       "      <td>-0.074793</td>\n",
       "      <td>-0.125874</td>\n",
       "      <td>-0.026134</td>\n",
       "      <td>-0.067442</td>\n",
       "      <td>0.101839</td>\n",
       "      <td>-0.055926</td>\n",
       "      <td>-0.089521</td>\n",
       "    </tr>\n",
       "    <tr>\n",
       "      <th>1</th>\n",
       "      <td>-0.494407</td>\n",
       "      <td>-0.491047</td>\n",
       "      <td>0.691653</td>\n",
       "      <td>0.216000</td>\n",
       "      <td>-0.199820</td>\n",
       "      <td>-0.478721</td>\n",
       "      <td>-0.067494</td>\n",
       "      <td>0.054762</td>\n",
       "    </tr>\n",
       "    <tr>\n",
       "      <th>2</th>\n",
       "      <td>1.524597</td>\n",
       "      <td>-0.573225</td>\n",
       "      <td>0.710875</td>\n",
       "      <td>-0.196794</td>\n",
       "      <td>0.263575</td>\n",
       "      <td>-0.062743</td>\n",
       "      <td>0.103403</td>\n",
       "      <td>-0.061419</td>\n",
       "    </tr>\n",
       "    <tr>\n",
       "      <th>3</th>\n",
       "      <td>-0.477087</td>\n",
       "      <td>-0.516336</td>\n",
       "      <td>0.713665</td>\n",
       "      <td>0.107269</td>\n",
       "      <td>-0.030329</td>\n",
       "      <td>-0.312400</td>\n",
       "      <td>0.013348</td>\n",
       "      <td>0.055191</td>\n",
       "    </tr>\n",
       "    <tr>\n",
       "      <th>4</th>\n",
       "      <td>1.625077</td>\n",
       "      <td>0.760985</td>\n",
       "      <td>0.318865</td>\n",
       "      <td>-0.106733</td>\n",
       "      <td>0.242379</td>\n",
       "      <td>0.126913</td>\n",
       "      <td>0.131808</td>\n",
       "      <td>0.104058</td>\n",
       "    </tr>\n",
       "    <tr>\n",
       "      <th>...</th>\n",
       "      <td>...</td>\n",
       "      <td>...</td>\n",
       "      <td>...</td>\n",
       "      <td>...</td>\n",
       "      <td>...</td>\n",
       "      <td>...</td>\n",
       "      <td>...</td>\n",
       "      <td>...</td>\n",
       "    </tr>\n",
       "    <tr>\n",
       "      <th>742</th>\n",
       "      <td>1.500069</td>\n",
       "      <td>-0.573584</td>\n",
       "      <td>0.704045</td>\n",
       "      <td>0.035930</td>\n",
       "      <td>0.150323</td>\n",
       "      <td>0.059332</td>\n",
       "      <td>0.078097</td>\n",
       "      <td>-0.068132</td>\n",
       "    </tr>\n",
       "    <tr>\n",
       "      <th>743</th>\n",
       "      <td>1.555690</td>\n",
       "      <td>0.789560</td>\n",
       "      <td>0.309961</td>\n",
       "      <td>0.019239</td>\n",
       "      <td>0.100605</td>\n",
       "      <td>0.001542</td>\n",
       "      <td>0.065657</td>\n",
       "      <td>0.009562</td>\n",
       "    </tr>\n",
       "    <tr>\n",
       "      <th>744</th>\n",
       "      <td>0.477769</td>\n",
       "      <td>-0.048454</td>\n",
       "      <td>-0.131842</td>\n",
       "      <td>0.443007</td>\n",
       "      <td>-0.371452</td>\n",
       "      <td>0.123167</td>\n",
       "      <td>-0.130500</td>\n",
       "      <td>-0.048099</td>\n",
       "    </tr>\n",
       "    <tr>\n",
       "      <th>745</th>\n",
       "      <td>1.512055</td>\n",
       "      <td>-0.078919</td>\n",
       "      <td>-0.116427</td>\n",
       "      <td>-0.287576</td>\n",
       "      <td>0.099172</td>\n",
       "      <td>0.068083</td>\n",
       "      <td>-0.024636</td>\n",
       "      <td>-0.131828</td>\n",
       "    </tr>\n",
       "    <tr>\n",
       "      <th>746</th>\n",
       "      <td>-1.523506</td>\n",
       "      <td>-0.521890</td>\n",
       "      <td>0.735741</td>\n",
       "      <td>-0.009636</td>\n",
       "      <td>0.165367</td>\n",
       "      <td>-0.036860</td>\n",
       "      <td>0.042889</td>\n",
       "      <td>-0.019515</td>\n",
       "    </tr>\n",
       "  </tbody>\n",
       "</table>\n",
       "<p>747 rows × 8 columns</p>\n",
       "</div>"
      ],
      "text/plain": [
       "          PC1       PC2       PC3       PC4       PC5       PC6       PC7  \\\n",
       "0    1.509029 -0.074793 -0.125874 -0.026134 -0.067442  0.101839 -0.055926   \n",
       "1   -0.494407 -0.491047  0.691653  0.216000 -0.199820 -0.478721 -0.067494   \n",
       "2    1.524597 -0.573225  0.710875 -0.196794  0.263575 -0.062743  0.103403   \n",
       "3   -0.477087 -0.516336  0.713665  0.107269 -0.030329 -0.312400  0.013348   \n",
       "4    1.625077  0.760985  0.318865 -0.106733  0.242379  0.126913  0.131808   \n",
       "..        ...       ...       ...       ...       ...       ...       ...   \n",
       "742  1.500069 -0.573584  0.704045  0.035930  0.150323  0.059332  0.078097   \n",
       "743  1.555690  0.789560  0.309961  0.019239  0.100605  0.001542  0.065657   \n",
       "744  0.477769 -0.048454 -0.131842  0.443007 -0.371452  0.123167 -0.130500   \n",
       "745  1.512055 -0.078919 -0.116427 -0.287576  0.099172  0.068083 -0.024636   \n",
       "746 -1.523506 -0.521890  0.735741 -0.009636  0.165367 -0.036860  0.042889   \n",
       "\n",
       "          PC8  \n",
       "0   -0.089521  \n",
       "1    0.054762  \n",
       "2   -0.061419  \n",
       "3    0.055191  \n",
       "4    0.104058  \n",
       "..        ...  \n",
       "742 -0.068132  \n",
       "743  0.009562  \n",
       "744 -0.048099  \n",
       "745 -0.131828  \n",
       "746 -0.019515  \n",
       "\n",
       "[747 rows x 8 columns]"
      ]
     },
     "execution_count": 75,
     "metadata": {},
     "output_type": "execute_result"
    }
   ],
   "source": [
    "# plot with 8 PCs\n",
    "\n",
    "n_components = 8\n",
    "\n",
    "pca = PCA(n_components=n_components)\n",
    "pc_columns = []\n",
    "for component in range(n_components):\n",
    "    pc_columns.append('PC' + str(component+1))\n",
    "        \n",
    "principal_components = pd.DataFrame(pca.fit_transform(customers_scaled.iloc[:,:-1]), \n",
    "                                    columns=pc_columns)\n",
    "principal_components\n"
   ]
  },
  {
   "cell_type": "code",
   "execution_count": 76,
   "metadata": {},
   "outputs": [
    {
     "data": {
      "image/png": "[encoded data removed]",
      "text/plain": [
       "<Figure size 432x288 with 1 Axes>"
      ]
     },
     "metadata": {
      "needs_background": "light"
     },
     "output_type": "display_data"
    }
   ],
   "source": [
    "plot_distortion(principal_components, max_clusters = 10)"
   ]
  },
  {
   "cell_type": "code",
   "execution_count": 77,
   "metadata": {},
   "outputs": [],
   "source": [
    "# set up k_means params\n",
    "km = KMeans(n_clusters=4,\n",
    "            n_init=10,\n",
    "            random_state=0)"
   ]
  },
  {
   "cell_type": "code",
   "execution_count": 78,
   "metadata": {},
   "outputs": [
    {
     "data": {
      "text/plain": [
       "array([2, 3, 2, 3, 2, 0, 1, 2, 0, 2, 2, 1, 3, 1, 0, 1, 3, 1, 2, 1, 3, 3,\n",
       "       2, 2, 0, 3, 1, 2, 2, 3, 3, 3, 0, 2, 3, 0, 1, 3, 2, 1, 1, 0, 3, 0,\n",
       "       3, 3, 3, 1, 2, 3, 1, 1, 2, 2, 2, 3, 3, 2, 3, 2, 0, 1, 1, 3, 2, 1,\n",
       "       2, 0, 1, 1, 3, 0, 2, 3, 2, 2, 1, 3, 1, 2, 3, 2, 3, 1, 2, 0, 3, 3,\n",
       "       3, 2, 0, 1, 1, 3, 1, 3, 1, 3, 3, 0, 2, 2, 0, 3, 0, 3, 2, 2, 2, 2,\n",
       "       1, 2, 2, 3, 0, 2, 0, 3, 2, 0, 3, 0, 2, 0, 1, 2, 1, 3, 0, 1, 2, 3,\n",
       "       1, 3, 2, 1, 2, 2, 1, 3, 2, 2, 2, 1, 2, 1, 2, 2, 3, 0, 1, 3, 3, 3,\n",
       "       3, 2, 1, 2, 0, 2, 2, 2, 2, 0, 0, 0, 3, 1, 3, 2, 3, 2, 2, 3, 1, 1,\n",
       "       2, 2, 2, 3, 2, 1, 2, 1, 2, 3, 3, 0, 2, 0, 3, 0, 1, 1, 0, 1, 1, 1,\n",
       "       0, 0, 2, 2, 1, 1, 3, 2, 1, 3, 1, 2, 1, 1, 2, 2, 1, 0, 1, 0, 3, 0,\n",
       "       2, 0, 0, 0, 1, 0, 3, 3, 0, 1, 1, 1, 1, 1, 1, 1, 0, 0, 2, 2, 0, 1,\n",
       "       3, 2, 3, 2, 0, 2, 2, 2, 2, 2, 0, 2, 0, 2, 2, 3, 3, 3, 0, 2, 0, 0,\n",
       "       1, 1, 3, 1, 0, 0, 0, 1, 1, 1, 2, 0, 3, 3, 3, 1, 1, 2, 2, 0, 0, 1,\n",
       "       1, 0, 0, 1, 1, 0, 0, 3, 2, 1, 3, 2, 1, 1, 1, 3, 3, 1, 2, 2, 0, 0,\n",
       "       0, 3, 2, 1, 3, 0, 1, 0, 1, 2, 0, 0, 2, 2, 0, 1, 3, 2, 1, 2, 1, 3,\n",
       "       3, 0, 3, 0, 3, 2, 3, 2, 0, 3, 2, 0, 2, 1, 1, 3, 0, 1, 2, 3, 1, 0,\n",
       "       0, 2, 1, 2, 1, 3, 2, 1, 1, 2, 3, 2, 2, 2, 1, 3, 1, 0, 3, 3, 1, 0,\n",
       "       2, 3, 1, 2, 1, 1, 2, 2, 2, 1, 1, 0, 2, 2, 2, 3, 2, 2, 2, 0, 3, 1,\n",
       "       3, 1, 3, 3, 2, 3, 3, 3, 3, 3, 0, 1, 1, 0, 2, 3, 1, 3, 2, 2, 2, 3,\n",
       "       3, 3, 1, 2, 3, 0, 3, 3, 1, 2, 3, 2, 0, 1, 3, 2, 1, 1, 3, 3, 1, 1,\n",
       "       2, 3, 0, 1, 0, 1, 2, 2, 2, 2, 2, 0, 2, 3, 1, 2, 1, 3, 2, 3, 0, 2,\n",
       "       1, 1, 1, 0, 3, 3, 2, 1, 3, 0, 2, 1, 1, 2, 1, 1, 1, 3, 1, 1, 2, 1,\n",
       "       0, 0, 0, 0, 2, 2, 2, 3, 2, 1, 0, 2, 3, 3, 0, 1, 2, 3, 0, 1, 3, 1,\n",
       "       1, 3, 3, 1, 1, 1, 3, 0, 3, 3, 3, 0, 2, 3, 0, 1, 0, 1, 2, 3, 2, 2,\n",
       "       2, 1, 3, 3, 1, 1, 3, 0, 1, 2, 1, 0, 1, 3, 3, 1, 2, 1, 2, 1, 1, 1,\n",
       "       1, 3, 2, 1, 2, 2, 2, 1, 2, 2, 2, 3, 1, 3, 0, 1, 3, 3, 0, 0, 0, 2,\n",
       "       1, 1, 1, 0, 3, 1, 1, 1, 0, 3, 2, 2, 2, 0, 3, 3, 3, 3, 3, 3, 0, 1,\n",
       "       1, 0, 3, 2, 1, 2, 0, 1, 1, 3, 2, 1, 3, 2, 3, 1, 2, 0, 2, 3, 1, 1,\n",
       "       1, 1, 3, 1, 1, 3, 0, 0, 3, 3, 2, 2, 0, 1, 0, 3, 1, 2, 2, 1, 2, 0,\n",
       "       1, 3, 3, 1, 1, 0, 2, 0, 0, 1, 3, 0, 3, 0, 0, 0, 0, 0, 2, 3, 2, 2,\n",
       "       1, 1, 3, 0, 0, 0, 2, 1, 3, 0, 1, 2, 0, 1, 2, 2, 0, 1, 0, 0, 2, 1,\n",
       "       1, 3, 1, 3, 2, 3, 0, 1, 2, 3, 3, 3, 3, 3, 2, 2, 2, 2, 2, 2, 2, 0,\n",
       "       2, 0, 1, 2, 2, 1, 1, 0, 3, 0, 1, 0, 2, 0, 1, 2, 0, 1, 1, 2, 2, 3,\n",
       "       3, 3, 3, 3, 3, 2, 3, 2, 1, 3, 3, 3, 3, 2, 1, 1, 2, 2, 0, 2, 1],\n",
       "      dtype=int32)"
      ]
     },
     "execution_count": 78,
     "metadata": {},
     "output_type": "execute_result"
    }
   ],
   "source": [
    "y_km = km.fit_predict(principal_components)\n",
    "y_km"
   ]
  },
  {
   "cell_type": "code",
   "execution_count": 79,
   "metadata": {},
   "outputs": [
    {
     "data": {
      "text/html": [
       "<div>\n",
       "<style scoped>\n",
       "    .dataframe tbody tr th:only-of-type {\n",
       "        vertical-align: middle;\n",
       "    }\n",
       "\n",
       "    .dataframe tbody tr th {\n",
       "        vertical-align: top;\n",
       "    }\n",
       "\n",
       "    .dataframe thead th {\n",
       "        text-align: right;\n",
       "    }\n",
       "</style>\n",
       "<table border=\"1\" class=\"dataframe\">\n",
       "  <thead>\n",
       "    <tr style=\"text-align: right;\">\n",
       "      <th></th>\n",
       "      <th>PC1</th>\n",
       "      <th>PC2</th>\n",
       "      <th>PC3</th>\n",
       "      <th>PC4</th>\n",
       "      <th>PC5</th>\n",
       "      <th>PC6</th>\n",
       "      <th>PC7</th>\n",
       "      <th>PC8</th>\n",
       "      <th>cluster_wgeo</th>\n",
       "    </tr>\n",
       "  </thead>\n",
       "  <tbody>\n",
       "    <tr>\n",
       "      <th>0</th>\n",
       "      <td>1.509029</td>\n",
       "      <td>-0.074793</td>\n",
       "      <td>-0.125874</td>\n",
       "      <td>-0.026134</td>\n",
       "      <td>-0.067442</td>\n",
       "      <td>0.101839</td>\n",
       "      <td>-0.055926</td>\n",
       "      <td>-0.089521</td>\n",
       "      <td>2</td>\n",
       "    </tr>\n",
       "    <tr>\n",
       "      <th>1</th>\n",
       "      <td>-0.494407</td>\n",
       "      <td>-0.491047</td>\n",
       "      <td>0.691653</td>\n",
       "      <td>0.216000</td>\n",
       "      <td>-0.199820</td>\n",
       "      <td>-0.478721</td>\n",
       "      <td>-0.067494</td>\n",
       "      <td>0.054762</td>\n",
       "      <td>3</td>\n",
       "    </tr>\n",
       "    <tr>\n",
       "      <th>2</th>\n",
       "      <td>1.524597</td>\n",
       "      <td>-0.573225</td>\n",
       "      <td>0.710875</td>\n",
       "      <td>-0.196794</td>\n",
       "      <td>0.263575</td>\n",
       "      <td>-0.062743</td>\n",
       "      <td>0.103403</td>\n",
       "      <td>-0.061419</td>\n",
       "      <td>2</td>\n",
       "    </tr>\n",
       "    <tr>\n",
       "      <th>3</th>\n",
       "      <td>-0.477087</td>\n",
       "      <td>-0.516336</td>\n",
       "      <td>0.713665</td>\n",
       "      <td>0.107269</td>\n",
       "      <td>-0.030329</td>\n",
       "      <td>-0.312400</td>\n",
       "      <td>0.013348</td>\n",
       "      <td>0.055191</td>\n",
       "      <td>3</td>\n",
       "    </tr>\n",
       "    <tr>\n",
       "      <th>4</th>\n",
       "      <td>1.625077</td>\n",
       "      <td>0.760985</td>\n",
       "      <td>0.318865</td>\n",
       "      <td>-0.106733</td>\n",
       "      <td>0.242379</td>\n",
       "      <td>0.126913</td>\n",
       "      <td>0.131808</td>\n",
       "      <td>0.104058</td>\n",
       "      <td>2</td>\n",
       "    </tr>\n",
       "    <tr>\n",
       "      <th>...</th>\n",
       "      <td>...</td>\n",
       "      <td>...</td>\n",
       "      <td>...</td>\n",
       "      <td>...</td>\n",
       "      <td>...</td>\n",
       "      <td>...</td>\n",
       "      <td>...</td>\n",
       "      <td>...</td>\n",
       "      <td>...</td>\n",
       "    </tr>\n",
       "    <tr>\n",
       "      <th>742</th>\n",
       "      <td>1.500069</td>\n",
       "      <td>-0.573584</td>\n",
       "      <td>0.704045</td>\n",
       "      <td>0.035930</td>\n",
       "      <td>0.150323</td>\n",
       "      <td>0.059332</td>\n",
       "      <td>0.078097</td>\n",
       "      <td>-0.068132</td>\n",
       "      <td>2</td>\n",
       "    </tr>\n",
       "    <tr>\n",
       "      <th>743</th>\n",
       "      <td>1.555690</td>\n",
       "      <td>0.789560</td>\n",
       "      <td>0.309961</td>\n",
       "      <td>0.019239</td>\n",
       "      <td>0.100605</td>\n",
       "      <td>0.001542</td>\n",
       "      <td>0.065657</td>\n",
       "      <td>0.009562</td>\n",
       "      <td>2</td>\n",
       "    </tr>\n",
       "    <tr>\n",
       "      <th>744</th>\n",
       "      <td>0.477769</td>\n",
       "      <td>-0.048454</td>\n",
       "      <td>-0.131842</td>\n",
       "      <td>0.443007</td>\n",
       "      <td>-0.371452</td>\n",
       "      <td>0.123167</td>\n",
       "      <td>-0.130500</td>\n",
       "      <td>-0.048099</td>\n",
       "      <td>0</td>\n",
       "    </tr>\n",
       "    <tr>\n",
       "      <th>745</th>\n",
       "      <td>1.512055</td>\n",
       "      <td>-0.078919</td>\n",
       "      <td>-0.116427</td>\n",
       "      <td>-0.287576</td>\n",
       "      <td>0.099172</td>\n",
       "      <td>0.068083</td>\n",
       "      <td>-0.024636</td>\n",
       "      <td>-0.131828</td>\n",
       "      <td>2</td>\n",
       "    </tr>\n",
       "    <tr>\n",
       "      <th>746</th>\n",
       "      <td>-1.523506</td>\n",
       "      <td>-0.521890</td>\n",
       "      <td>0.735741</td>\n",
       "      <td>-0.009636</td>\n",
       "      <td>0.165367</td>\n",
       "      <td>-0.036860</td>\n",
       "      <td>0.042889</td>\n",
       "      <td>-0.019515</td>\n",
       "      <td>1</td>\n",
       "    </tr>\n",
       "  </tbody>\n",
       "</table>\n",
       "<p>747 rows × 9 columns</p>\n",
       "</div>"
      ],
      "text/plain": [
       "          PC1       PC2       PC3       PC4       PC5       PC6       PC7  \\\n",
       "0    1.509029 -0.074793 -0.125874 -0.026134 -0.067442  0.101839 -0.055926   \n",
       "1   -0.494407 -0.491047  0.691653  0.216000 -0.199820 -0.478721 -0.067494   \n",
       "2    1.524597 -0.573225  0.710875 -0.196794  0.263575 -0.062743  0.103403   \n",
       "3   -0.477087 -0.516336  0.713665  0.107269 -0.030329 -0.312400  0.013348   \n",
       "4    1.625077  0.760985  0.318865 -0.106733  0.242379  0.126913  0.131808   \n",
       "..        ...       ...       ...       ...       ...       ...       ...   \n",
       "742  1.500069 -0.573584  0.704045  0.035930  0.150323  0.059332  0.078097   \n",
       "743  1.555690  0.789560  0.309961  0.019239  0.100605  0.001542  0.065657   \n",
       "744  0.477769 -0.048454 -0.131842  0.443007 -0.371452  0.123167 -0.130500   \n",
       "745  1.512055 -0.078919 -0.116427 -0.287576  0.099172  0.068083 -0.024636   \n",
       "746 -1.523506 -0.521890  0.735741 -0.009636  0.165367 -0.036860  0.042889   \n",
       "\n",
       "          PC8  cluster_wgeo  \n",
       "0   -0.089521             2  \n",
       "1    0.054762             3  \n",
       "2   -0.061419             2  \n",
       "3    0.055191             3  \n",
       "4    0.104058             2  \n",
       "..        ...           ...  \n",
       "742 -0.068132             2  \n",
       "743  0.009562             2  \n",
       "744 -0.048099             0  \n",
       "745 -0.131828             2  \n",
       "746 -0.019515             1  \n",
       "\n",
       "[747 rows x 9 columns]"
      ]
     },
     "execution_count": 79,
     "metadata": {},
     "output_type": "execute_result"
    }
   ],
   "source": [
    "principal_components['cluster_wgeo'] = y_km\n",
    "principal_components"
   ]
  },
  {
   "cell_type": "code",
   "execution_count": 80,
   "metadata": {},
   "outputs": [
    {
     "data": {
      "text/html": [
       "<div>\n",
       "<style scoped>\n",
       "    .dataframe tbody tr th:only-of-type {\n",
       "        vertical-align: middle;\n",
       "    }\n",
       "\n",
       "    .dataframe tbody tr th {\n",
       "        vertical-align: top;\n",
       "    }\n",
       "\n",
       "    .dataframe thead th {\n",
       "        text-align: right;\n",
       "    }\n",
       "</style>\n",
       "<table border=\"1\" class=\"dataframe\">\n",
       "  <thead>\n",
       "    <tr style=\"text-align: right;\">\n",
       "      <th></th>\n",
       "      <th>PC1</th>\n",
       "      <th>PC2</th>\n",
       "      <th>PC3</th>\n",
       "      <th>PC4</th>\n",
       "      <th>PC5</th>\n",
       "      <th>PC6</th>\n",
       "      <th>PC7</th>\n",
       "      <th>PC8</th>\n",
       "    </tr>\n",
       "    <tr>\n",
       "      <th>cluster_wgeo</th>\n",
       "      <th></th>\n",
       "      <th></th>\n",
       "      <th></th>\n",
       "      <th></th>\n",
       "      <th></th>\n",
       "      <th></th>\n",
       "      <th></th>\n",
       "      <th></th>\n",
       "    </tr>\n",
       "  </thead>\n",
       "  <tbody>\n",
       "    <tr>\n",
       "      <th>0</th>\n",
       "      <td>0.502509</td>\n",
       "      <td>-0.028089</td>\n",
       "      <td>-0.010675</td>\n",
       "      <td>0.294904</td>\n",
       "      <td>-0.042829</td>\n",
       "      <td>0.267665</td>\n",
       "      <td>0.004574</td>\n",
       "      <td>-0.004724</td>\n",
       "    </tr>\n",
       "    <tr>\n",
       "      <th>1</th>\n",
       "      <td>-1.517770</td>\n",
       "      <td>-0.003557</td>\n",
       "      <td>0.000240</td>\n",
       "      <td>-0.124293</td>\n",
       "      <td>0.127888</td>\n",
       "      <td>0.066146</td>\n",
       "      <td>0.025756</td>\n",
       "      <td>-0.019375</td>\n",
       "    </tr>\n",
       "    <tr>\n",
       "      <th>2</th>\n",
       "      <td>1.549738</td>\n",
       "      <td>0.005382</td>\n",
       "      <td>0.002066</td>\n",
       "      <td>-0.151341</td>\n",
       "      <td>0.071738</td>\n",
       "      <td>-0.055860</td>\n",
       "      <td>0.010821</td>\n",
       "      <td>-0.010859</td>\n",
       "    </tr>\n",
       "    <tr>\n",
       "      <th>3</th>\n",
       "      <td>-0.493609</td>\n",
       "      <td>0.019287</td>\n",
       "      <td>0.005588</td>\n",
       "      <td>0.078987</td>\n",
       "      <td>-0.186184</td>\n",
       "      <td>-0.213453</td>\n",
       "      <td>-0.043517</td>\n",
       "      <td>0.036784</td>\n",
       "    </tr>\n",
       "  </tbody>\n",
       "</table>\n",
       "</div>"
      ],
      "text/plain": [
       "                   PC1       PC2       PC3       PC4       PC5       PC6  \\\n",
       "cluster_wgeo                                                               \n",
       "0             0.502509 -0.028089 -0.010675  0.294904 -0.042829  0.267665   \n",
       "1            -1.517770 -0.003557  0.000240 -0.124293  0.127888  0.066146   \n",
       "2             1.549738  0.005382  0.002066 -0.151341  0.071738 -0.055860   \n",
       "3            -0.493609  0.019287  0.005588  0.078987 -0.186184 -0.213453   \n",
       "\n",
       "                   PC7       PC8  \n",
       "cluster_wgeo                      \n",
       "0             0.004574 -0.004724  \n",
       "1             0.025756 -0.019375  \n",
       "2             0.010821 -0.010859  \n",
       "3            -0.043517  0.036784  "
      ]
     },
     "execution_count": 80,
     "metadata": {},
     "output_type": "execute_result"
    }
   ],
   "source": [
    "radar_scaled_pca = principal_components.groupby('cluster_wgeo').mean()\n",
    "radar_scaled_pca"
   ]
  },
  {
   "cell_type": "code",
   "execution_count": 81,
   "metadata": {},
   "outputs": [
    {
     "data": {
      "application/vnd.plotly.v1+json": {
       "config": {
        "plotlyServerURL": "https://plot.ly"
       },
       "data": [
        {
         "fill": "toself",
         "name": "0",
         "r": [
          0.5025085756975397,
          -0.02808867461895945,
          -0.01067498229093183,
          0.2949039356523406,
          -0.04282884522499334,
          0.2676650189258122,
          0.004574206437271357,
          -0.004724365675461076
         ],
         "theta": [
          "PC1",
          "PC2",
          "PC3",
          "PC4",
          "PC5",
          "PC6",
          "PC7",
          "PC8"
         ],
         "type": "scatterpolar"
        },
        {
         "fill": "toself",
         "name": "1",
         "r": [
          -1.5177699144123245,
          -0.0035574138991106407,
          0.00023963129292350798,
          -0.1242932219525117,
          0.12788824280934935,
          0.06614621736187488,
          0.02575620586852977,
          -0.01937498909020593
         ],
         "theta": [
          "PC1",
          "PC2",
          "PC3",
          "PC4",
          "PC5",
          "PC6",
          "PC7",
          "PC8"
         ],
         "type": "scatterpolar"
        },
        {
         "fill": "toself",
         "name": "2",
         "r": [
          1.5497380743227165,
          0.005382125325822015,
          0.0020656923316071203,
          -0.15134069137336364,
          0.07173848826549306,
          -0.05585957802943958,
          0.01082069983542898,
          -0.010858700949804113
         ],
         "theta": [
          "PC1",
          "PC2",
          "PC3",
          "PC4",
          "PC5",
          "PC6",
          "PC7",
          "PC8"
         ],
         "type": "scatterpolar"
        },
        {
         "fill": "toself",
         "name": "3",
         "r": [
          -0.49360858527212664,
          0.019286774455188078,
          0.0055884336336703136,
          0.07898714837008446,
          -0.1861836121818265,
          -0.21345326759327846,
          -0.04351693554994443,
          0.036784447042216326
         ],
         "theta": [
          "PC1",
          "PC2",
          "PC3",
          "PC4",
          "PC5",
          "PC6",
          "PC7",
          "PC8"
         ],
         "type": "scatterpolar"
        }
       ],
       "layout": {
        "polar": {
         "radialaxis": {
          "visible": true
         }
        },
        "showlegend": true,
        "template": {
         "data": {
          "bar": [
           {
            "error_x": {
             "color": "#2a3f5f"
            },
            "error_y": {
             "color": "#2a3f5f"
            },
            "marker": {
             "line": {
              "color": "#E5ECF6",
              "width": 0.5
             },
             "pattern": {
              "fillmode": "overlay",
              "size": 10,
              "solidity": 0.2
             }
            },
            "type": "bar"
           }
          ],
          "barpolar": [
           {
            "marker": {
             "line": {
              "color": "#E5ECF6",
              "width": 0.5
             },
             "pattern": {
              "fillmode": "overlay",
              "size": 10,
              "solidity": 0.2
             }
            },
            "type": "barpolar"
           }
          ],
          "carpet": [
           {
            "aaxis": {
             "endlinecolor": "#2a3f5f",
             "gridcolor": "white",
             "linecolor": "white",
             "minorgridcolor": "white",
             "startlinecolor": "#2a3f5f"
            },
            "baxis": {
             "endlinecolor": "#2a3f5f",
             "gridcolor": "white",
             "linecolor": "white",
             "minorgridcolor": "white",
             "startlinecolor": "#2a3f5f"
            },
            "type": "carpet"
           }
          ],
          "choropleth": [
           {
            "colorbar": {
             "outlinewidth": 0,
             "ticks": ""
            },
            "type": "choropleth"
           }
          ],
          "contour": [
           {
            "colorbar": {
             "outlinewidth": 0,
             "ticks": ""
            },
            "colorscale": [
             [
              0,
              "#0d0887"
             ],
             [
              0.1111111111111111,
              "#46039f"
             ],
             [
              0.2222222222222222,
              "#7201a8"
             ],
             [
              0.3333333333333333,
              "#9c179e"
             ],
             [
              0.4444444444444444,
              "#bd3786"
             ],
             [
              0.5555555555555556,
              "#d8576b"
             ],
             [
              0.6666666666666666,
              "#ed7953"
             ],
             [
              0.7777777777777778,
              "#fb9f3a"
             ],
             [
              0.8888888888888888,
              "#fdca26"
             ],
             [
              1,
              "#f0f921"
             ]
            ],
            "type": "contour"
           }
          ],
          "contourcarpet": [
           {
            "colorbar": {
             "outlinewidth": 0,
             "ticks": ""
            },
            "type": "contourcarpet"
           }
          ],
          "heatmap": [
           {
            "colorbar": {
             "outlinewidth": 0,
             "ticks": ""
            },
            "colorscale": [
             [
              0,
              "#0d0887"
             ],
             [
              0.1111111111111111,
              "#46039f"
             ],
             [
              0.2222222222222222,
              "#7201a8"
             ],
             [
              0.3333333333333333,
              "#9c179e"
             ],
             [
              0.4444444444444444,
              "#bd3786"
             ],
             [
              0.5555555555555556,
              "#d8576b"
             ],
             [
              0.6666666666666666,
              "#ed7953"
             ],
             [
              0.7777777777777778,
              "#fb9f3a"
             ],
             [
              0.8888888888888888,
              "#fdca26"
             ],
             [
              1,
              "#f0f921"
             ]
            ],
            "type": "heatmap"
           }
          ],
          "heatmapgl": [
           {
            "colorbar": {
             "outlinewidth": 0,
             "ticks": ""
            },
            "colorscale": [
             [
              0,
              "#0d0887"
             ],
             [
              0.1111111111111111,
              "#46039f"
             ],
             [
              0.2222222222222222,
              "#7201a8"
             ],
             [
              0.3333333333333333,
              "#9c179e"
             ],
             [
              0.4444444444444444,
              "#bd3786"
             ],
             [
              0.5555555555555556,
              "#d8576b"
             ],
             [
              0.6666666666666666,
              "#ed7953"
             ],
             [
              0.7777777777777778,
              "#fb9f3a"
             ],
             [
              0.8888888888888888,
              "#fdca26"
             ],
             [
              1,
              "#f0f921"
             ]
            ],
            "type": "heatmapgl"
           }
          ],
          "histogram": [
           {
            "marker": {
             "pattern": {
              "fillmode": "overlay",
              "size": 10,
              "solidity": 0.2
             }
            },
            "type": "histogram"
           }
          ],
          "histogram2d": [
           {
            "colorbar": {
             "outlinewidth": 0,
             "ticks": ""
            },
            "colorscale": [
             [
              0,
              "#0d0887"
             ],
             [
              0.1111111111111111,
              "#46039f"
             ],
             [
              0.2222222222222222,
              "#7201a8"
             ],
             [
              0.3333333333333333,
              "#9c179e"
             ],
             [
              0.4444444444444444,
              "#bd3786"
             ],
             [
              0.5555555555555556,
              "#d8576b"
             ],
             [
              0.6666666666666666,
              "#ed7953"
             ],
             [
              0.7777777777777778,
              "#fb9f3a"
             ],
             [
              0.8888888888888888,
              "#fdca26"
             ],
             [
              1,
              "#f0f921"
             ]
            ],
            "type": "histogram2d"
           }
          ],
          "histogram2dcontour": [
           {
            "colorbar": {
             "outlinewidth": 0,
             "ticks": ""
            },
            "colorscale": [
             [
              0,
              "#0d0887"
             ],
             [
              0.1111111111111111,
              "#46039f"
             ],
             [
              0.2222222222222222,
              "#7201a8"
             ],
             [
              0.3333333333333333,
              "#9c179e"
             ],
             [
              0.4444444444444444,
              "#bd3786"
             ],
             [
              0.5555555555555556,
              "#d8576b"
             ],
             [
              0.6666666666666666,
              "#ed7953"
             ],
             [
              0.7777777777777778,
              "#fb9f3a"
             ],
             [
              0.8888888888888888,
              "#fdca26"
             ],
             [
              1,
              "#f0f921"
             ]
            ],
            "type": "histogram2dcontour"
           }
          ],
          "mesh3d": [
           {
            "colorbar": {
             "outlinewidth": 0,
             "ticks": ""
            },
            "type": "mesh3d"
           }
          ],
          "parcoords": [
           {
            "line": {
             "colorbar": {
              "outlinewidth": 0,
              "ticks": ""
             }
            },
            "type": "parcoords"
           }
          ],
          "pie": [
           {
            "automargin": true,
            "type": "pie"
           }
          ],
          "scatter": [
           {
            "fillpattern": {
             "fillmode": "overlay",
             "size": 10,
             "solidity": 0.2
            },
            "type": "scatter"
           }
          ],
          "scatter3d": [
           {
            "line": {
             "colorbar": {
              "outlinewidth": 0,
              "ticks": ""
             }
            },
            "marker": {
             "colorbar": {
              "outlinewidth": 0,
              "ticks": ""
             }
            },
            "type": "scatter3d"
           }
          ],
          "scattercarpet": [
           {
            "marker": {
             "colorbar": {
              "outlinewidth": 0,
              "ticks": ""
             }
            },
            "type": "scattercarpet"
           }
          ],
          "scattergeo": [
           {
            "marker": {
             "colorbar": {
              "outlinewidth": 0,
              "ticks": ""
             }
            },
            "type": "scattergeo"
           }
          ],
          "scattergl": [
           {
            "marker": {
             "colorbar": {
              "outlinewidth": 0,
              "ticks": ""
             }
            },
            "type": "scattergl"
           }
          ],
          "scattermapbox": [
           {
            "marker": {
             "colorbar": {
              "outlinewidth": 0,
              "ticks": ""
             }
            },
            "type": "scattermapbox"
           }
          ],
          "scatterpolar": [
           {
            "marker": {
             "colorbar": {
              "outlinewidth": 0,
              "ticks": ""
             }
            },
            "type": "scatterpolar"
           }
          ],
          "scatterpolargl": [
           {
            "marker": {
             "colorbar": {
              "outlinewidth": 0,
              "ticks": ""
             }
            },
            "type": "scatterpolargl"
           }
          ],
          "scatterternary": [
           {
            "marker": {
             "colorbar": {
              "outlinewidth": 0,
              "ticks": ""
             }
            },
            "type": "scatterternary"
           }
          ],
          "surface": [
           {
            "colorbar": {
             "outlinewidth": 0,
             "ticks": ""
            },
            "colorscale": [
             [
              0,
              "#0d0887"
             ],
             [
              0.1111111111111111,
              "#46039f"
             ],
             [
              0.2222222222222222,
              "#7201a8"
             ],
             [
              0.3333333333333333,
              "#9c179e"
             ],
             [
              0.4444444444444444,
              "#bd3786"
             ],
             [
              0.5555555555555556,
              "#d8576b"
             ],
             [
              0.6666666666666666,
              "#ed7953"
             ],
             [
              0.7777777777777778,
              "#fb9f3a"
             ],
             [
              0.8888888888888888,
              "#fdca26"
             ],
             [
              1,
              "#f0f921"
             ]
            ],
            "type": "surface"
           }
          ],
          "table": [
           {
            "cells": {
             "fill": {
              "color": "#EBF0F8"
             },
             "line": {
              "color": "white"
             }
            },
            "header": {
             "fill": {
              "color": "#C8D4E3"
             },
             "line": {
              "color": "white"
             }
            },
            "type": "table"
           }
          ]
         },
         "layout": {
          "annotationdefaults": {
           "arrowcolor": "#2a3f5f",
           "arrowhead": 0,
           "arrowwidth": 1
          },
          "autotypenumbers": "strict",
          "coloraxis": {
           "colorbar": {
            "outlinewidth": 0,
            "ticks": ""
           }
          },
          "colorscale": {
           "diverging": [
            [
             0,
             "#8e0152"
            ],
            [
             0.1,
             "#c51b7d"
            ],
            [
             0.2,
             "#de77ae"
            ],
            [
             0.3,
             "#f1b6da"
            ],
            [
             0.4,
             "#fde0ef"
            ],
            [
             0.5,
             "#f7f7f7"
            ],
            [
             0.6,
             "#e6f5d0"
            ],
            [
             0.7,
             "#b8e186"
            ],
            [
             0.8,
             "#7fbc41"
            ],
            [
             0.9,
             "#4d9221"
            ],
            [
             1,
             "#276419"
            ]
           ],
           "sequential": [
            [
             0,
             "#0d0887"
            ],
            [
             0.1111111111111111,
             "#46039f"
            ],
            [
             0.2222222222222222,
             "#7201a8"
            ],
            [
             0.3333333333333333,
             "#9c179e"
            ],
            [
             0.4444444444444444,
             "#bd3786"
            ],
            [
             0.5555555555555556,
             "#d8576b"
            ],
            [
             0.6666666666666666,
             "#ed7953"
            ],
            [
             0.7777777777777778,
             "#fb9f3a"
            ],
            [
             0.8888888888888888,
             "#fdca26"
            ],
            [
             1,
             "#f0f921"
            ]
           ],
           "sequentialminus": [
            [
             0,
             "#0d0887"
            ],
            [
             0.1111111111111111,
             "#46039f"
            ],
            [
             0.2222222222222222,
             "#7201a8"
            ],
            [
             0.3333333333333333,
             "#9c179e"
            ],
            [
             0.4444444444444444,
             "#bd3786"
            ],
            [
             0.5555555555555556,
             "#d8576b"
            ],
            [
             0.6666666666666666,
             "#ed7953"
            ],
            [
             0.7777777777777778,
             "#fb9f3a"
            ],
            [
             0.8888888888888888,
             "#fdca26"
            ],
            [
             1,
             "#f0f921"
            ]
           ]
          },
          "colorway": [
           "#636efa",
           "#EF553B",
           "#00cc96",
           "#ab63fa",
           "#FFA15A",
           "#19d3f3",
           "#FF6692",
           "#B6E880",
           "#FF97FF",
           "#FECB52"
          ],
          "font": {
           "color": "#2a3f5f"
          },
          "geo": {
           "bgcolor": "white",
           "lakecolor": "white",
           "landcolor": "#E5ECF6",
           "showlakes": true,
           "showland": true,
           "subunitcolor": "white"
          },
          "hoverlabel": {
           "align": "left"
          },
          "hovermode": "closest",
          "mapbox": {
           "style": "light"
          },
          "paper_bgcolor": "white",
          "plot_bgcolor": "#E5ECF6",
          "polar": {
           "angularaxis": {
            "gridcolor": "white",
            "linecolor": "white",
            "ticks": ""
           },
           "bgcolor": "#E5ECF6",
           "radialaxis": {
            "gridcolor": "white",
            "linecolor": "white",
            "ticks": ""
           }
          },
          "scene": {
           "xaxis": {
            "backgroundcolor": "#E5ECF6",
            "gridcolor": "white",
            "gridwidth": 2,
            "linecolor": "white",
            "showbackground": true,
            "ticks": "",
            "zerolinecolor": "white"
           },
           "yaxis": {
            "backgroundcolor": "#E5ECF6",
            "gridcolor": "white",
            "gridwidth": 2,
            "linecolor": "white",
            "showbackground": true,
            "ticks": "",
            "zerolinecolor": "white"
           },
           "zaxis": {
            "backgroundcolor": "#E5ECF6",
            "gridcolor": "white",
            "gridwidth": 2,
            "linecolor": "white",
            "showbackground": true,
            "ticks": "",
            "zerolinecolor": "white"
           }
          },
          "shapedefaults": {
           "line": {
            "color": "#2a3f5f"
           }
          },
          "ternary": {
           "aaxis": {
            "gridcolor": "white",
            "linecolor": "white",
            "ticks": ""
           },
           "baxis": {
            "gridcolor": "white",
            "linecolor": "white",
            "ticks": ""
           },
           "bgcolor": "#E5ECF6",
           "caxis": {
            "gridcolor": "white",
            "linecolor": "white",
            "ticks": ""
           }
          },
          "title": {
           "x": 0.05
          },
          "xaxis": {
           "automargin": true,
           "gridcolor": "white",
           "linecolor": "white",
           "ticks": "",
           "title": {
            "standoff": 15
           },
           "zerolinecolor": "white",
           "zerolinewidth": 2
          },
          "yaxis": {
           "automargin": true,
           "gridcolor": "white",
           "linecolor": "white",
           "ticks": "",
           "title": {
            "standoff": 15
           },
           "zerolinecolor": "white",
           "zerolinewidth": 2
          }
         }
        },
        "title": {
         "text": "PCA Demographic segments, w geography"
        }
       }
      }
     },
     "metadata": {},
     "output_type": "display_data"
    }
   ],
   "source": [
    "def plotRadarChart(data,title):\n",
    "    temp_list = []\n",
    "    for i in range(len(data)):\n",
    "        temp_list.append(go.Scatterpolar(\n",
    "                                        r=data.iloc[i].values,\n",
    "                                        theta=data.columns,\n",
    "                                        name=str(data.index[i]),\n",
    "                                        fill='toself'\n",
    "        ))\n",
    "\n",
    "    layout = go.Layout(polar = dict(radialaxis = dict(visible = True)),\n",
    "                        showlegend = True, title=title)     \n",
    "    fig = go.Figure(data = temp_list, layout = layout)     \n",
    "    fig.show()\n",
    "\n",
    "plotRadarChart(radar_scaled_pca, \"PCA Demographic segments, w geography\")"
   ]
  }
 ],
 "metadata": {
  "interpreter": {
   "hash": "5eaee7f08749df7acde7defcf9c75ec9e0490b46ee4fb9b854947ce622c4fcf4"
  },
  "kernelspec": {
   "display_name": "Python 3.8.2 ('lhl_env')",
   "language": "python",
   "name": "python3"
  },
  "language_info": {
   "codemirror_mode": {
    "name": "ipython",
    "version": 3
   },
   "file_extension": ".py",
   "mimetype": "text/x-python",
   "name": "python",
   "nbconvert_exporter": "python",
   "pygments_lexer": "ipython3",
   "version": "3.8.2"
  },
  "orig_nbformat": 4
 },
 "nbformat": 4,
 "nbformat_minor": 2
}
