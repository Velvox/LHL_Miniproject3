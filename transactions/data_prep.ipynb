{
 "cells": [
  {
   "cell_type": "code",
   "execution_count": 23,
   "metadata": {},
   "outputs": [],
   "source": [
    "import numpy as np\n",
    "import pandas as pd\n",
    "from sklearn.cluster import KMeans\n",
    "\n",
    "import matplotlib.pyplot as plt\n",
    "import seaborn as sns"
   ]
  },
  {
   "cell_type": "code",
   "execution_count": 24,
   "metadata": {},
   "outputs": [
    {
     "name": "stdout",
     "output_type": "stream",
     "text": [
      "<class 'pandas.core.frame.DataFrame'>\n",
      "RangeIndex: 77580 entries, 0 to 77579\n",
      "Data columns (total 10 columns):\n",
      " #   Column         Non-Null Count  Dtype  \n",
      "---  ------         --------------  -----  \n",
      " 0   tran_id        77580 non-null  int64  \n",
      " 1   acct_nbr       77580 non-null  int64  \n",
      " 2   tran_amt       77580 non-null  float64\n",
      " 3   principal_amt  77580 non-null  float64\n",
      " 4   interest_amt   77580 non-null  float64\n",
      " 5   new_balance    77580 non-null  float64\n",
      " 6   tran_date      77580 non-null  object \n",
      " 7   tran_time      77580 non-null  int64  \n",
      " 8   channel        77580 non-null  object \n",
      " 9   tran_code      77580 non-null  object \n",
      "dtypes: float64(4), int64(3), object(3)\n",
      "memory usage: 5.9+ MB\n"
     ]
    }
   ],
   "source": [
    "transactions = pd.read_csv('../data/twm_transactions.csv', delimiter=';')\n",
    "transactions.info()"
   ]
  },
  {
   "cell_type": "code",
   "execution_count": 25,
   "metadata": {},
   "outputs": [
    {
     "data": {
      "text/plain": [
       "155"
      ]
     },
     "execution_count": 25,
     "metadata": {},
     "output_type": "execute_result"
    }
   ],
   "source": [
    "# id should be dropped\n",
    "transactions.tran_id.nunique()"
   ]
  },
  {
   "cell_type": "code",
   "execution_count": 26,
   "metadata": {},
   "outputs": [
    {
     "data": {
      "text/plain": [
       "13"
      ]
     },
     "execution_count": 26,
     "metadata": {},
     "output_type": "execute_result"
    }
   ],
   "source": [
    "#tran_code should be hot_encoded\n",
    "transactions.tran_code.nunique()"
   ]
  },
  {
   "cell_type": "code",
   "execution_count": 27,
   "metadata": {},
   "outputs": [
    {
     "data": {
      "text/plain": [
       "11"
      ]
     },
     "execution_count": 27,
     "metadata": {},
     "output_type": "execute_result"
    }
   ],
   "source": [
    "#tran_channel should be hot_encoded\n",
    "transactions.channel.nunique()"
   ]
  },
  {
   "cell_type": "code",
   "execution_count": 28,
   "metadata": {},
   "outputs": [],
   "source": [
    "# let's drop date and time, not important, we should also group by acct"
   ]
  },
  {
   "cell_type": "markdown",
   "metadata": {},
   "source": [
    "# Cleaning"
   ]
  },
  {
   "cell_type": "code",
   "execution_count": 29,
   "metadata": {},
   "outputs": [
    {
     "data": {
      "text/html": [
       "<div>\n",
       "<style scoped>\n",
       "    .dataframe tbody tr th:only-of-type {\n",
       "        vertical-align: middle;\n",
       "    }\n",
       "\n",
       "    .dataframe tbody tr th {\n",
       "        vertical-align: top;\n",
       "    }\n",
       "\n",
       "    .dataframe thead th {\n",
       "        text-align: right;\n",
       "    }\n",
       "</style>\n",
       "<table border=\"1\" class=\"dataframe\">\n",
       "  <thead>\n",
       "    <tr style=\"text-align: right;\">\n",
       "      <th></th>\n",
       "      <th>tran_amt</th>\n",
       "      <th>principal_amt</th>\n",
       "      <th>interest_amt</th>\n",
       "      <th>new_balance</th>\n",
       "      <th>channel</th>\n",
       "      <th>tran_code</th>\n",
       "    </tr>\n",
       "  </thead>\n",
       "  <tbody>\n",
       "    <tr>\n",
       "      <th>0</th>\n",
       "      <td>0.00</td>\n",
       "      <td>0.00</td>\n",
       "      <td>0.0</td>\n",
       "      <td>3753.34</td>\n",
       "      <td>A</td>\n",
       "      <td>IQ</td>\n",
       "    </tr>\n",
       "    <tr>\n",
       "      <th>1</th>\n",
       "      <td>0.00</td>\n",
       "      <td>0.00</td>\n",
       "      <td>0.0</td>\n",
       "      <td>254.49</td>\n",
       "      <td>V</td>\n",
       "      <td>IQ</td>\n",
       "    </tr>\n",
       "    <tr>\n",
       "      <th>2</th>\n",
       "      <td>-97.57</td>\n",
       "      <td>-97.57</td>\n",
       "      <td>0.0</td>\n",
       "      <td>3819.56</td>\n",
       "      <td>P</td>\n",
       "      <td>WD</td>\n",
       "    </tr>\n",
       "    <tr>\n",
       "      <th>3</th>\n",
       "      <td>-0.15</td>\n",
       "      <td>-0.15</td>\n",
       "      <td>0.0</td>\n",
       "      <td>224.05</td>\n",
       "      <td></td>\n",
       "      <td>FK</td>\n",
       "    </tr>\n",
       "    <tr>\n",
       "      <th>4</th>\n",
       "      <td>0.00</td>\n",
       "      <td>0.00</td>\n",
       "      <td>0.0</td>\n",
       "      <td>240.55</td>\n",
       "      <td>B</td>\n",
       "      <td>IQ</td>\n",
       "    </tr>\n",
       "    <tr>\n",
       "      <th>...</th>\n",
       "      <td>...</td>\n",
       "      <td>...</td>\n",
       "      <td>...</td>\n",
       "      <td>...</td>\n",
       "      <td>...</td>\n",
       "      <td>...</td>\n",
       "    </tr>\n",
       "    <tr>\n",
       "      <th>77575</th>\n",
       "      <td>-95.71</td>\n",
       "      <td>-95.71</td>\n",
       "      <td>0.0</td>\n",
       "      <td>95.71</td>\n",
       "      <td>A</td>\n",
       "      <td>TR</td>\n",
       "    </tr>\n",
       "    <tr>\n",
       "      <th>77576</th>\n",
       "      <td>-93.90</td>\n",
       "      <td>-93.90</td>\n",
       "      <td>0.0</td>\n",
       "      <td>824.36</td>\n",
       "      <td>P</td>\n",
       "      <td>WD</td>\n",
       "    </tr>\n",
       "    <tr>\n",
       "      <th>77577</th>\n",
       "      <td>-10.35</td>\n",
       "      <td>-10.35</td>\n",
       "      <td>0.0</td>\n",
       "      <td>10.36</td>\n",
       "      <td>P</td>\n",
       "      <td>WD</td>\n",
       "    </tr>\n",
       "    <tr>\n",
       "      <th>77578</th>\n",
       "      <td>-423.80</td>\n",
       "      <td>-423.80</td>\n",
       "      <td>0.0</td>\n",
       "      <td>162.28</td>\n",
       "      <td>E</td>\n",
       "      <td>WD</td>\n",
       "    </tr>\n",
       "    <tr>\n",
       "      <th>77579</th>\n",
       "      <td>0.00</td>\n",
       "      <td>0.00</td>\n",
       "      <td>0.0</td>\n",
       "      <td>-2420.91</td>\n",
       "      <td>A</td>\n",
       "      <td>IQ</td>\n",
       "    </tr>\n",
       "  </tbody>\n",
       "</table>\n",
       "<p>77580 rows × 6 columns</p>\n",
       "</div>"
      ],
      "text/plain": [
       "       tran_amt  principal_amt  interest_amt  new_balance channel tran_code\n",
       "0          0.00           0.00           0.0      3753.34      A       IQ  \n",
       "1          0.00           0.00           0.0       254.49      V       IQ  \n",
       "2        -97.57         -97.57           0.0      3819.56      P       WD  \n",
       "3         -0.15          -0.15           0.0       224.05              FK  \n",
       "4          0.00           0.00           0.0       240.55      B       IQ  \n",
       "...         ...            ...           ...          ...     ...       ...\n",
       "77575    -95.71         -95.71           0.0        95.71      A       TR  \n",
       "77576    -93.90         -93.90           0.0       824.36      P       WD  \n",
       "77577    -10.35         -10.35           0.0        10.36      P       WD  \n",
       "77578   -423.80        -423.80           0.0       162.28      E       WD  \n",
       "77579      0.00           0.00           0.0     -2420.91      A       IQ  \n",
       "\n",
       "[77580 rows x 6 columns]"
      ]
     },
     "execution_count": 29,
     "metadata": {},
     "output_type": "execute_result"
    }
   ],
   "source": [
    "transactions = transactions.drop(['tran_id','tran_date','tran_time','acct_nbr'], axis=1)\n",
    "transactions"
   ]
  },
  {
   "cell_type": "code",
   "execution_count": 30,
   "metadata": {},
   "outputs": [],
   "source": [
    "# # group by acct_nbr\n",
    "# acct_transactions = transactions.groupby('acct_nbr').mean()#.drop('new_balance', axis=1)\n",
    "# acct_transactions"
   ]
  },
  {
   "cell_type": "code",
   "execution_count": 31,
   "metadata": {},
   "outputs": [],
   "source": [
    "# # add transaction counts\n",
    "# acct_transactions['tran_count'] = transactions.groupby('acct_nbr').count()['tran_amt']\n",
    "# acct_transactions"
   ]
  },
  {
   "cell_type": "markdown",
   "metadata": {},
   "source": [
    "# Scaling"
   ]
  },
  {
   "cell_type": "code",
   "execution_count": 32,
   "metadata": {},
   "outputs": [],
   "source": [
    "# Scaling\n",
    "from sklearn.preprocessing import StandardScaler\n",
    "\n",
    "num_feats = transactions.dtypes[(transactions.dtypes != 'object')].index.tolist()\n",
    "scaler = StandardScaler()\n",
    "scaled_transactions = pd.DataFrame(scaler.fit_transform(transactions[num_feats].astype(float)))"
   ]
  },
  {
   "cell_type": "code",
   "execution_count": 33,
   "metadata": {},
   "outputs": [
    {
     "data": {
      "text/html": [
       "<div>\n",
       "<style scoped>\n",
       "    .dataframe tbody tr th:only-of-type {\n",
       "        vertical-align: middle;\n",
       "    }\n",
       "\n",
       "    .dataframe tbody tr th {\n",
       "        vertical-align: top;\n",
       "    }\n",
       "\n",
       "    .dataframe thead th {\n",
       "        text-align: right;\n",
       "    }\n",
       "</style>\n",
       "<table border=\"1\" class=\"dataframe\">\n",
       "  <thead>\n",
       "    <tr style=\"text-align: right;\">\n",
       "      <th></th>\n",
       "      <th>tran_amt</th>\n",
       "      <th>principal_amt</th>\n",
       "      <th>interest_amt</th>\n",
       "      <th>new_balance</th>\n",
       "    </tr>\n",
       "  </thead>\n",
       "  <tbody>\n",
       "    <tr>\n",
       "      <th>0</th>\n",
       "      <td>0.024780</td>\n",
       "      <td>0.027362</td>\n",
       "      <td>-0.172302</td>\n",
       "      <td>1.473768</td>\n",
       "    </tr>\n",
       "    <tr>\n",
       "      <th>1</th>\n",
       "      <td>0.024780</td>\n",
       "      <td>0.027362</td>\n",
       "      <td>-0.172302</td>\n",
       "      <td>-0.146869</td>\n",
       "    </tr>\n",
       "    <tr>\n",
       "      <th>2</th>\n",
       "      <td>-0.287262</td>\n",
       "      <td>-0.286364</td>\n",
       "      <td>-0.172302</td>\n",
       "      <td>1.504441</td>\n",
       "    </tr>\n",
       "    <tr>\n",
       "      <th>3</th>\n",
       "      <td>0.024300</td>\n",
       "      <td>0.026880</td>\n",
       "      <td>-0.172302</td>\n",
       "      <td>-0.160969</td>\n",
       "    </tr>\n",
       "    <tr>\n",
       "      <th>4</th>\n",
       "      <td>0.024780</td>\n",
       "      <td>0.027362</td>\n",
       "      <td>-0.172302</td>\n",
       "      <td>-0.153326</td>\n",
       "    </tr>\n",
       "    <tr>\n",
       "      <th>...</th>\n",
       "      <td>...</td>\n",
       "      <td>...</td>\n",
       "      <td>...</td>\n",
       "      <td>...</td>\n",
       "    </tr>\n",
       "    <tr>\n",
       "      <th>77575</th>\n",
       "      <td>-0.281313</td>\n",
       "      <td>-0.280383</td>\n",
       "      <td>-0.172302</td>\n",
       "      <td>-0.220415</td>\n",
       "    </tr>\n",
       "    <tr>\n",
       "      <th>77576</th>\n",
       "      <td>-0.275524</td>\n",
       "      <td>-0.274563</td>\n",
       "      <td>-0.172302</td>\n",
       "      <td>0.117090</td>\n",
       "    </tr>\n",
       "    <tr>\n",
       "      <th>77577</th>\n",
       "      <td>-0.008321</td>\n",
       "      <td>-0.005917</td>\n",
       "      <td>-0.172302</td>\n",
       "      <td>-0.259948</td>\n",
       "    </tr>\n",
       "    <tr>\n",
       "      <th>77578</th>\n",
       "      <td>-1.330588</td>\n",
       "      <td>-1.335319</td>\n",
       "      <td>-0.172302</td>\n",
       "      <td>-0.189580</td>\n",
       "    </tr>\n",
       "    <tr>\n",
       "      <th>77579</th>\n",
       "      <td>0.024780</td>\n",
       "      <td>0.027362</td>\n",
       "      <td>-0.172302</td>\n",
       "      <td>-1.386092</td>\n",
       "    </tr>\n",
       "  </tbody>\n",
       "</table>\n",
       "<p>77580 rows × 4 columns</p>\n",
       "</div>"
      ],
      "text/plain": [
       "       tran_amt  principal_amt  interest_amt  new_balance\n",
       "0      0.024780       0.027362     -0.172302     1.473768\n",
       "1      0.024780       0.027362     -0.172302    -0.146869\n",
       "2     -0.287262      -0.286364     -0.172302     1.504441\n",
       "3      0.024300       0.026880     -0.172302    -0.160969\n",
       "4      0.024780       0.027362     -0.172302    -0.153326\n",
       "...         ...            ...           ...          ...\n",
       "77575 -0.281313      -0.280383     -0.172302    -0.220415\n",
       "77576 -0.275524      -0.274563     -0.172302     0.117090\n",
       "77577 -0.008321      -0.005917     -0.172302    -0.259948\n",
       "77578 -1.330588      -1.335319     -0.172302    -0.189580\n",
       "77579  0.024780       0.027362     -0.172302    -1.386092\n",
       "\n",
       "[77580 rows x 4 columns]"
      ]
     },
     "execution_count": 33,
     "metadata": {},
     "output_type": "execute_result"
    }
   ],
   "source": [
    "# add columns back\n",
    "\n",
    "scaled_transactions.columns = num_feats\n",
    "scaled_transactions"
   ]
  },
  {
   "cell_type": "code",
   "execution_count": 34,
   "metadata": {},
   "outputs": [],
   "source": [
    "# export\n",
    "\n",
    "scaled_transactions.to_csv('../data/acct_transactions.csv')"
   ]
  },
  {
   "cell_type": "code",
   "execution_count": null,
   "metadata": {},
   "outputs": [],
   "source": []
  }
 ],
 "metadata": {
  "interpreter": {
   "hash": "5eaee7f08749df7acde7defcf9c75ec9e0490b46ee4fb9b854947ce622c4fcf4"
  },
  "kernelspec": {
   "display_name": "Python 3.8.2 ('lhl_env')",
   "language": "python",
   "name": "python3"
  },
  "language_info": {
   "codemirror_mode": {
    "name": "ipython",
    "version": 3
   },
   "file_extension": ".py",
   "mimetype": "text/x-python",
   "name": "python",
   "nbconvert_exporter": "python",
   "pygments_lexer": "ipython3",
   "version": "3.8.2"
  },
  "orig_nbformat": 4
 },
 "nbformat": 4,
 "nbformat_minor": 2
}
